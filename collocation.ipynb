{
 "cells": [
  {
   "cell_type": "code",
   "execution_count": 127,
   "metadata": {},
   "outputs": [],
   "source": [
    "import numpy as np\n",
    "import matplotlib.pyplot as plt\n",
    "from scipy.optimize import minimize"
   ]
  },
  {
   "cell_type": "code",
   "execution_count": 165,
   "metadata": {},
   "outputs": [],
   "source": [
    "colloc_dist = np.array([0,0.15,0.35,0.65,0.85,1.0])\n",
    "colloc_dist = np.array([0,0.35,0.75,1.0])\n",
    "num_colloc = len(colloc_dist)"
   ]
  },
  {
   "cell_type": "code",
   "execution_count": 166,
   "metadata": {},
   "outputs": [
    {
     "data": {
      "text/plain": [
       "array([[1.      , 0.      , 0.      , 0.      ],\n",
       "       [1.      , 0.35    , 0.1225  , 0.042875],\n",
       "       [1.      , 0.75    , 0.5625  , 0.421875],\n",
       "       [1.      , 1.      , 1.      , 1.      ]])"
      ]
     },
     "execution_count": 166,
     "metadata": {},
     "output_type": "execute_result"
    }
   ],
   "source": [
    "coeffs_to_colloc = np.array([colloc_dist**i for i in range(num_colloc)]).T\n",
    "coeffs_to_colloc"
   ]
  },
  {
   "cell_type": "code",
   "execution_count": 167,
   "metadata": {},
   "outputs": [
    {
     "data": {
      "text/plain": [
       "array([[0.    , 1.    , 0.    , 0.    ],\n",
       "       [0.    , 1.    , 0.7   , 0.3675],\n",
       "       [0.    , 1.    , 1.5   , 1.6875],\n",
       "       [0.    , 1.    , 2.    , 3.    ]])"
      ]
     },
     "execution_count": 167,
     "metadata": {},
     "output_type": "execute_result"
    }
   ],
   "source": [
    "coeffs_to_colloc_deriv = np.vstack((colloc_dist*0,  np.array([i*colloc_dist**(i-1) for i in range(1,num_colloc)]))).T\n",
    "coeffs_to_colloc_deriv"
   ]
  },
  {
   "cell_type": "code",
   "execution_count": 168,
   "metadata": {},
   "outputs": [
    {
     "data": {
      "text/plain": [
       "array([[-5.19047619,  8.24175824, -4.66666667,  1.61538462],\n",
       "       [-0.99047619, -1.18131868,  3.03333333, -0.86153846],\n",
       "       [ 0.38095238, -2.06043956, -0.16666667,  1.84615385],\n",
       "       [-0.61904762,  2.74725275, -8.66666667,  6.53846154]])"
      ]
     },
     "execution_count": 168,
     "metadata": {},
     "output_type": "execute_result"
    }
   ],
   "source": [
    "colloc_to_colloc_deriv = coeffs_to_colloc_deriv@np.linalg.inv(coeffs_to_colloc)\n",
    "colloc_to_colloc_deriv"
   ]
  },
  {
   "cell_type": "code",
   "execution_count": 169,
   "metadata": {},
   "outputs": [],
   "source": [
    "def dynamics_constraints(z):\n",
    "    x = z[0:num_colloc]\n",
    "    y = z[num_colloc:(2*num_colloc)]\n",
    "    h = z[(2*num_colloc):(3*num_colloc)]\n",
    "    v = z[(3*num_colloc):(4*num_colloc)]\n",
    "    k = z[(4*num_colloc):(5*num_colloc)]\n",
    "    T = z[-1]\n",
    "    xdot_err = (1/T)*colloc_to_colloc_deriv@x - v*np.sin(h) # x-dot = v sin h\n",
    "    ydot_err = (1/T)*colloc_to_colloc_deriv@y - v*np.cos(h) # y-dot = v cos h\n",
    "    hdot_err = (1/T)*colloc_to_colloc_deriv@h - v*k # h-dot = v k\n",
    "    return np.hstack((xdot_err,ydot_err,hdot_err))"
   ]
  },
  {
   "cell_type": "code",
   "execution_count": 170,
   "metadata": {},
   "outputs": [],
   "source": [
    "s0 = (0,0,-np.pi/4)\n",
    "sf = (5,5,-np.pi/4)\n",
    "def boundary_constraints(z):\n",
    "    init_err = np.array([s0[i] - z[i*num_colloc] for i in range(len(s0))])\n",
    "    term_err = np.array([sf[i] - z[num_colloc + i*num_colloc - 1] for i in range(len(sf))])\n",
    "    return np.hstack((init_err,term_err))"
   ]
  },
  {
   "cell_type": "code",
   "execution_count": 171,
   "metadata": {},
   "outputs": [
    {
     "data": {
      "text/plain": [
       "array([ 0.        ,  1.66666667,  3.33333333,  5.        ,  0.        ,\n",
       "        1.66666667,  3.33333333,  5.        , -0.78539816, -0.78539816,\n",
       "       -0.78539816, -0.78539816,  1.8       ,  1.8       ,  1.8       ,\n",
       "        1.8       ,  0.        ,  0.        ,  0.        ,  0.        ,\n",
       "        5.        ])"
      ]
     },
     "execution_count": 171,
     "metadata": {},
     "output_type": "execute_result"
    }
   ],
   "source": [
    "z = np.hstack((np.linspace(s0[0],sf[0],num_colloc),\n",
    "               np.linspace(s0[1],sf[1],num_colloc),\n",
    "               np.linspace(s0[2],sf[2],num_colloc),\n",
    "               np.ones_like(colloc_dist)*1.8,\n",
    "               np.zeros_like(colloc_dist),\n",
    "               5.0))\n",
    "z"
   ]
  },
  {
   "cell_type": "code",
   "execution_count": 172,
   "metadata": {},
   "outputs": [
    {
     "data": {
      "text/plain": [
       "array([ 2.52431846e+00,  2.03970307e+00,  2.32102175e+00,  2.94922688e+00,\n",
       "       -2.12659546e-02, -5.05881339e-01, -2.24562658e-01,  4.03642470e-01,\n",
       "        0.00000000e+00, -1.11022302e-16, -2.77555756e-17,  2.22044605e-16])"
      ]
     },
     "execution_count": 172,
     "metadata": {},
     "output_type": "execute_result"
    }
   ],
   "source": [
    "dynamics_constraints(z)"
   ]
  },
  {
   "cell_type": "code",
   "execution_count": 173,
   "metadata": {},
   "outputs": [
    {
     "data": {
      "text/plain": [
       "array([0., 0., 0., 0., 0., 0.])"
      ]
     },
     "execution_count": 173,
     "metadata": {},
     "output_type": "execute_result"
    }
   ],
   "source": [
    "boundary_constraints(z)"
   ]
  },
  {
   "cell_type": "code",
   "execution_count": 174,
   "metadata": {},
   "outputs": [
    {
     "data": {
      "text/plain": [
       "[(-10, 10),\n",
       " (-10, 10),\n",
       " (-10, 10),\n",
       " (-10, 10),\n",
       " (-10, 10),\n",
       " (-10, 10),\n",
       " (-10, 10),\n",
       " (-10, 10),\n",
       " (-3.141592653589793, 3.141592653589793),\n",
       " (-3.141592653589793, 3.141592653589793),\n",
       " (-3.141592653589793, 3.141592653589793),\n",
       " (-3.141592653589793, 3.141592653589793),\n",
       " (0, 3),\n",
       " (0, 3),\n",
       " (0, 3),\n",
       " (0, 3),\n",
       " (-2, 2),\n",
       " (-2, 2),\n",
       " (-2, 2),\n",
       " (-2, 2),\n",
       " (0.001, 100.0)]"
      ]
     },
     "execution_count": 174,
     "metadata": {},
     "output_type": "execute_result"
    }
   ],
   "source": [
    "bounds = [(-10,10)]*2*num_colloc + [(-np.pi,np.pi)]*num_colloc + [(0,3)]*num_colloc + [(-2,2)]*num_colloc + [(0.001,100.0)]\n",
    "bounds"
   ]
  },
  {
   "cell_type": "code",
   "execution_count": 186,
   "metadata": {},
   "outputs": [
    {
     "data": {
      "text/plain": [
       "array([ 2.52431846e+00,  2.03970307e+00,  2.32102175e+00,  2.94922688e+00,\n",
       "       -2.12659546e-02, -5.05881339e-01, -2.24562658e-01,  4.03642470e-01,\n",
       "        0.00000000e+00, -1.11022302e-16, -2.77555756e-17,  2.22044605e-16,\n",
       "        0.00000000e+00,  0.00000000e+00,  0.00000000e+00,  0.00000000e+00,\n",
       "        0.00000000e+00,  0.00000000e+00])"
      ]
     },
     "execution_count": 186,
     "metadata": {},
     "output_type": "execute_result"
    }
   ],
   "source": [
    "def all_eq_constraints(z):\n",
    "    return np.hstack((dynamics_constraints(z),boundary_constraints(z)))\n",
    "\n",
    "all_eq_constraints(z)"
   ]
  },
  {
   "cell_type": "code",
   "execution_count": 187,
   "metadata": {},
   "outputs": [],
   "source": [
    "constraints = [{'type':'eq','fun':all_eq_constraints}]"
   ]
  },
  {
   "cell_type": "code",
   "execution_count": 176,
   "metadata": {},
   "outputs": [],
   "source": [
    "def cost(z):\n",
    "    return(z[-1])"
   ]
  },
  {
   "cell_type": "code",
   "execution_count": 188,
   "metadata": {},
   "outputs": [
    {
     "data": {
      "text/plain": [
       " message: Inequality constraints incompatible\n",
       " success: False\n",
       "  status: 4\n",
       "     fun: 6.876392322591542\n",
       "       x: [ 6.740e-16  1.402e+00 ... -2.000e+00  6.876e+00]\n",
       "     nit: 18\n",
       "     jac: [ 0.000e+00  0.000e+00 ...  0.000e+00  1.000e+00]\n",
       "    nfev: 405\n",
       "    njev: 17"
      ]
     },
     "execution_count": 188,
     "metadata": {},
     "output_type": "execute_result"
    }
   ],
   "source": [
    "res = minimize(cost,z,method='SLSQP',bounds=bounds,constraints=constraints,options={'maxiter':300})\n",
    "res"
   ]
  },
  {
   "cell_type": "code",
   "execution_count": 178,
   "metadata": {},
   "outputs": [
    {
     "data": {
      "text/plain": [
       "array([ 6.73952606e-16,  1.40235669e+00,  4.24069829e+00,  5.00000000e+00,\n",
       "        3.22652468e-16,  1.40235667e+00,  4.24069819e+00,  5.00000000e+00,\n",
       "       -7.85398163e-01,  3.13631456e-01,  1.20395485e-01, -7.85398163e-01,\n",
       "        5.00054697e-08,  0.00000000e+00,  1.06899466e-08,  0.00000000e+00,\n",
       "       -6.79229794e-01,  4.92276054e-01,  2.00000000e+00, -2.00000000e+00,\n",
       "        6.87639232e+00])"
      ]
     },
     "execution_count": 178,
     "metadata": {},
     "output_type": "execute_result"
    }
   ],
   "source": [
    "res.x"
   ]
  },
  {
   "cell_type": "code",
   "execution_count": 179,
   "metadata": {},
   "outputs": [
    {
     "data": {
      "image/png": "[encoded data removed]",
      "text/plain": [
       "<Figure size 640x480 with 1 Axes>"
      ]
     },
     "metadata": {},
     "output_type": "display_data"
    }
   ],
   "source": [
    "plt.plot(res.x[0:num_colloc],res.x[num_colloc:(2*num_colloc)])\n",
    "plt.axis('equal')\n",
    "plt.grid('on')\n",
    "plt.show()"
   ]
  },
  {
   "cell_type": "code",
   "execution_count": 184,
   "metadata": {},
   "outputs": [
    {
     "data": {
      "text/plain": [
       "array([-0.02255794,  1.00330649,  0.81939987, -0.0302168 , -0.02255796,\n",
       "        1.00330644,  0.81939987, -0.03021668,  0.70253403,  0.2107602 ,\n",
       "       -0.35126702, -0.70253401])"
      ]
     },
     "execution_count": 184,
     "metadata": {},
     "output_type": "execute_result"
    }
   ],
   "source": [
    "dynamics_constraints(res.x)"
   ]
  },
  {
   "cell_type": "code",
   "execution_count": 185,
   "metadata": {},
   "outputs": [
    {
     "data": {
      "text/plain": [
       "array([-6.73952606e-16, -3.22652468e-16, -4.44089210e-16,  8.88178420e-16,\n",
       "        0.00000000e+00, -1.11022302e-16])"
      ]
     },
     "execution_count": 185,
     "metadata": {},
     "output_type": "execute_result"
    }
   ],
   "source": [
    "boundary_constraints(res.x)"
   ]
  },
  {
   "cell_type": "code",
   "execution_count": 180,
   "metadata": {},
   "outputs": [],
   "source": [
    "eval_dist = np.linspace(0,1,100)"
   ]
  },
  {
   "cell_type": "code",
   "execution_count": 181,
   "metadata": {},
   "outputs": [
    {
     "data": {
      "text/plain": [
       "array([[1.00000000e+00, 0.00000000e+00, 0.00000000e+00, 0.00000000e+00],\n",
       "       [1.00000000e+00, 1.01010101e-02, 1.02030405e-04, 1.03061015e-06],\n",
       "       [1.00000000e+00, 2.02020202e-02, 4.08121620e-04, 8.24488122e-06],\n",
       "       [1.00000000e+00, 3.03030303e-02, 9.18273646e-04, 2.78264741e-05],\n",
       "       [1.00000000e+00, 4.04040404e-02, 1.63248648e-03, 6.59590497e-05],\n",
       "       [1.00000000e+00, 5.05050505e-02, 2.55076013e-03, 1.28826269e-04],\n",
       "       [1.00000000e+00, 6.06060606e-02, 3.67309458e-03, 2.22611793e-04],\n",
       "       [1.00000000e+00, 7.07070707e-02, 4.99948985e-03, 3.53499282e-04],\n",
       "       [1.00000000e+00, 8.08080808e-02, 6.52994592e-03, 5.27672398e-04],\n",
       "       [1.00000000e+00, 9.09090909e-02, 8.26446281e-03, 7.51314801e-04],\n",
       "       [1.00000000e+00, 1.01010101e-01, 1.02030405e-02, 1.03061015e-03],\n",
       "       [1.00000000e+00, 1.11111111e-01, 1.23456790e-02, 1.37174211e-03],\n",
       "       [1.00000000e+00, 1.21212121e-01, 1.46923783e-02, 1.78089434e-03],\n",
       "       [1.00000000e+00, 1.31313131e-01, 1.72431385e-02, 2.26425050e-03],\n",
       "       [1.00000000e+00, 1.41414141e-01, 1.99979594e-02, 2.82799426e-03],\n",
       "       [1.00000000e+00, 1.51515152e-01, 2.29568411e-02, 3.47830926e-03],\n",
       "       [1.00000000e+00, 1.61616162e-01, 2.61197837e-02, 4.22137918e-03],\n",
       "       [1.00000000e+00, 1.71717172e-01, 2.94867871e-02, 5.06338768e-03],\n",
       "       [1.00000000e+00, 1.81818182e-01, 3.30578512e-02, 6.01051841e-03],\n",
       "       [1.00000000e+00, 1.91919192e-01, 3.68329762e-02, 7.06895503e-03],\n",
       "       [1.00000000e+00, 2.02020202e-01, 4.08121620e-02, 8.24488122e-03],\n",
       "       [1.00000000e+00, 2.12121212e-01, 4.49954086e-02, 9.54448062e-03],\n",
       "       [1.00000000e+00, 2.22222222e-01, 4.93827160e-02, 1.09739369e-02],\n",
       "       [1.00000000e+00, 2.32323232e-01, 5.39740843e-02, 1.25394337e-02],\n",
       "       [1.00000000e+00, 2.42424242e-01, 5.87695133e-02, 1.42471547e-02],\n",
       "       [1.00000000e+00, 2.52525253e-01, 6.37690032e-02, 1.61032836e-02],\n",
       "       [1.00000000e+00, 2.62626263e-01, 6.89725538e-02, 1.81140040e-02],\n",
       "       [1.00000000e+00, 2.72727273e-01, 7.43801653e-02, 2.02854996e-02],\n",
       "       [1.00000000e+00, 2.82828283e-01, 7.99918376e-02, 2.26239541e-02],\n",
       "       [1.00000000e+00, 2.92929293e-01, 8.58075707e-02, 2.51355510e-02],\n",
       "       [1.00000000e+00, 3.03030303e-01, 9.18273646e-02, 2.78264741e-02],\n",
       "       [1.00000000e+00, 3.13131313e-01, 9.80512193e-02, 3.07029070e-02],\n",
       "       [1.00000000e+00, 3.23232323e-01, 1.04479135e-01, 3.37710335e-02],\n",
       "       [1.00000000e+00, 3.33333333e-01, 1.11111111e-01, 3.70370370e-02],\n",
       "       [1.00000000e+00, 3.43434343e-01, 1.17947148e-01, 4.05071014e-02],\n",
       "       [1.00000000e+00, 3.53535354e-01, 1.24987246e-01, 4.41874103e-02],\n",
       "       [1.00000000e+00, 3.63636364e-01, 1.32231405e-01, 4.80841473e-02],\n",
       "       [1.00000000e+00, 3.73737374e-01, 1.39679625e-01, 5.22034960e-02],\n",
       "       [1.00000000e+00, 3.83838384e-01, 1.47331905e-01, 5.65516403e-02],\n",
       "       [1.00000000e+00, 3.93939394e-01, 1.55188246e-01, 6.11347636e-02],\n",
       "       [1.00000000e+00, 4.04040404e-01, 1.63248648e-01, 6.59590497e-02],\n",
       "       [1.00000000e+00, 4.14141414e-01, 1.71513111e-01, 7.10306823e-02],\n",
       "       [1.00000000e+00, 4.24242424e-01, 1.79981635e-01, 7.63558450e-02],\n",
       "       [1.00000000e+00, 4.34343434e-01, 1.88654219e-01, 8.19407214e-02],\n",
       "       [1.00000000e+00, 4.44444444e-01, 1.97530864e-01, 8.77914952e-02],\n",
       "       [1.00000000e+00, 4.54545455e-01, 2.06611570e-01, 9.39143501e-02],\n",
       "       [1.00000000e+00, 4.64646465e-01, 2.15896337e-01, 1.00315470e-01],\n",
       "       [1.00000000e+00, 4.74747475e-01, 2.25385165e-01, 1.07001038e-01],\n",
       "       [1.00000000e+00, 4.84848485e-01, 2.35078053e-01, 1.13977238e-01],\n",
       "       [1.00000000e+00, 4.94949495e-01, 2.44975003e-01, 1.21250254e-01],\n",
       "       [1.00000000e+00, 5.05050505e-01, 2.55076013e-01, 1.28826269e-01],\n",
       "       [1.00000000e+00, 5.15151515e-01, 2.65381084e-01, 1.36711467e-01],\n",
       "       [1.00000000e+00, 5.25252525e-01, 2.75890215e-01, 1.44912032e-01],\n",
       "       [1.00000000e+00, 5.35353535e-01, 2.86603408e-01, 1.53434148e-01],\n",
       "       [1.00000000e+00, 5.45454545e-01, 2.97520661e-01, 1.62283997e-01],\n",
       "       [1.00000000e+00, 5.55555556e-01, 3.08641975e-01, 1.71467764e-01],\n",
       "       [1.00000000e+00, 5.65656566e-01, 3.19967350e-01, 1.80991632e-01],\n",
       "       [1.00000000e+00, 5.75757576e-01, 3.31496786e-01, 1.90861786e-01],\n",
       "       [1.00000000e+00, 5.85858586e-01, 3.43230283e-01, 2.01084408e-01],\n",
       "       [1.00000000e+00, 5.95959596e-01, 3.55167840e-01, 2.11665682e-01],\n",
       "       [1.00000000e+00, 6.06060606e-01, 3.67309458e-01, 2.22611793e-01],\n",
       "       [1.00000000e+00, 6.16161616e-01, 3.79655137e-01, 2.33928923e-01],\n",
       "       [1.00000000e+00, 6.26262626e-01, 3.92204877e-01, 2.45623256e-01],\n",
       "       [1.00000000e+00, 6.36363636e-01, 4.04958678e-01, 2.57700977e-01],\n",
       "       [1.00000000e+00, 6.46464646e-01, 4.17916539e-01, 2.70168268e-01],\n",
       "       [1.00000000e+00, 6.56565657e-01, 4.31078461e-01, 2.83031313e-01],\n",
       "       [1.00000000e+00, 6.66666667e-01, 4.44444444e-01, 2.96296296e-01],\n",
       "       [1.00000000e+00, 6.76767677e-01, 4.58014488e-01, 3.09969401e-01],\n",
       "       [1.00000000e+00, 6.86868687e-01, 4.71788593e-01, 3.24056811e-01],\n",
       "       [1.00000000e+00, 6.96969697e-01, 4.85766758e-01, 3.38564710e-01],\n",
       "       [1.00000000e+00, 7.07070707e-01, 4.99948985e-01, 3.53499282e-01],\n",
       "       [1.00000000e+00, 7.17171717e-01, 5.14335272e-01, 3.68866710e-01],\n",
       "       [1.00000000e+00, 7.27272727e-01, 5.28925620e-01, 3.84673178e-01],\n",
       "       [1.00000000e+00, 7.37373737e-01, 5.43720029e-01, 4.00924870e-01],\n",
       "       [1.00000000e+00, 7.47474747e-01, 5.58718498e-01, 4.17627968e-01],\n",
       "       [1.00000000e+00, 7.57575758e-01, 5.73921028e-01, 4.34788658e-01],\n",
       "       [1.00000000e+00, 7.67676768e-01, 5.89327620e-01, 4.52413122e-01],\n",
       "       [1.00000000e+00, 7.77777778e-01, 6.04938272e-01, 4.70507545e-01],\n",
       "       [1.00000000e+00, 7.87878788e-01, 6.20752984e-01, 4.89078109e-01],\n",
       "       [1.00000000e+00, 7.97979798e-01, 6.36771758e-01, 5.08130999e-01],\n",
       "       [1.00000000e+00, 8.08080808e-01, 6.52994592e-01, 5.27672398e-01],\n",
       "       [1.00000000e+00, 8.18181818e-01, 6.69421488e-01, 5.47708490e-01],\n",
       "       [1.00000000e+00, 8.28282828e-01, 6.86052444e-01, 5.68245458e-01],\n",
       "       [1.00000000e+00, 8.38383838e-01, 7.02887460e-01, 5.89289487e-01],\n",
       "       [1.00000000e+00, 8.48484848e-01, 7.19926538e-01, 6.10846760e-01],\n",
       "       [1.00000000e+00, 8.58585859e-01, 7.37169677e-01, 6.32923460e-01],\n",
       "       [1.00000000e+00, 8.68686869e-01, 7.54616876e-01, 6.55525771e-01],\n",
       "       [1.00000000e+00, 8.78787879e-01, 7.72268136e-01, 6.78659877e-01],\n",
       "       [1.00000000e+00, 8.88888889e-01, 7.90123457e-01, 7.02331962e-01],\n",
       "       [1.00000000e+00, 8.98989899e-01, 8.08182838e-01, 7.26548208e-01],\n",
       "       [1.00000000e+00, 9.09090909e-01, 8.26446281e-01, 7.51314801e-01],\n",
       "       [1.00000000e+00, 9.19191919e-01, 8.44913784e-01, 7.76637923e-01],\n",
       "       [1.00000000e+00, 9.29292929e-01, 8.63585348e-01, 8.02523758e-01],\n",
       "       [1.00000000e+00, 9.39393939e-01, 8.82460973e-01, 8.28978490e-01],\n",
       "       [1.00000000e+00, 9.49494949e-01, 9.01540659e-01, 8.56008303e-01],\n",
       "       [1.00000000e+00, 9.59595960e-01, 9.20824406e-01, 8.83619379e-01],\n",
       "       [1.00000000e+00, 9.69696970e-01, 9.40312213e-01, 9.11817904e-01],\n",
       "       [1.00000000e+00, 9.79797980e-01, 9.60004081e-01, 9.40610059e-01],\n",
       "       [1.00000000e+00, 9.89898990e-01, 9.79900010e-01, 9.70002030e-01],\n",
       "       [1.00000000e+00, 1.00000000e+00, 1.00000000e+00, 1.00000000e+00]])"
      ]
     },
     "execution_count": 181,
     "metadata": {},
     "output_type": "execute_result"
    }
   ],
   "source": [
    "coeffs_to_eval = np.array([eval_dist**i for i in range(len(colloc_dist))]).T\n",
    "coeffs_to_eval"
   ]
  },
  {
   "cell_type": "code",
   "execution_count": 182,
   "metadata": {},
   "outputs": [],
   "source": [
    "colloc_to_eval = coeffs_to_eval@np.linalg.inv(coeffs_to_colloc)"
   ]
  },
  {
   "cell_type": "code",
   "execution_count": 183,
   "metadata": {},
   "outputs": [
    {
     "ename": "ValueError",
     "evalue": "matmul: Input operand 1 has a mismatch in its core dimension 0, with gufunc signature (n?,k),(k,m?)->(n?,m?) (size 6 is different from 4)",
     "output_type": "error",
     "traceback": [
      "\u001b[1;31m---------------------------------------------------------------------------\u001b[0m",
      "\u001b[1;31mValueError\u001b[0m                                Traceback (most recent call last)",
      "Cell \u001b[1;32mIn[183], line 2\u001b[0m\n\u001b[0;32m      1\u001b[0m colloc_test \u001b[38;5;241m=\u001b[39m np\u001b[38;5;241m.\u001b[39marray([\u001b[38;5;241m1\u001b[39m,\u001b[38;5;241m2\u001b[39m,\u001b[38;5;241m2\u001b[39m,\u001b[38;5;241m3\u001b[39m,\u001b[38;5;241m3\u001b[39m,\u001b[38;5;241m2\u001b[39m])\n\u001b[1;32m----> 2\u001b[0m eval_test \u001b[38;5;241m=\u001b[39m \u001b[43mcolloc_to_eval\u001b[49m\u001b[38;5;129;43m@colloc_test\u001b[39;49m\n\u001b[0;32m      3\u001b[0m plt\u001b[38;5;241m.\u001b[39mplot(colloc_dist,colloc_test,\u001b[38;5;124m'\u001b[39m\u001b[38;5;124m*r-\u001b[39m\u001b[38;5;124m'\u001b[39m)\n\u001b[0;32m      4\u001b[0m plt\u001b[38;5;241m.\u001b[39mplot(eval_dist,eval_test,\u001b[38;5;124m'\u001b[39m\u001b[38;5;124mb-\u001b[39m\u001b[38;5;124m'\u001b[39m)\n",
      "\u001b[1;31mValueError\u001b[0m: matmul: Input operand 1 has a mismatch in its core dimension 0, with gufunc signature (n?,k),(k,m?)->(n?,m?) (size 6 is different from 4)"
     ]
    }
   ],
   "source": [
    "colloc_test = np.array([1,2,2,3,3,2])\n",
    "eval_test = colloc_to_eval@colloc_test\n",
    "plt.plot(colloc_dist,colloc_test,'*r-')\n",
    "plt.plot(eval_dist,eval_test,'b-')\n",
    "plt.show()"
   ]
  },
  {
   "cell_type": "code",
   "execution_count": null,
   "metadata": {},
   "outputs": [
    {
     "data": {
      "image/png": "[encoded data removed]",
      "text/plain": [
       "<Figure size 640x480 with 1 Axes>"
      ]
     },
     "metadata": {},
     "output_type": "display_data"
    }
   ],
   "source": [
    "colloc_deriv_test = colloc_to_colloc_deriv@colloc_test\n",
    "plt.plot(colloc_dist,colloc_deriv_test,'*r-')\n",
    "plt.show()"
   ]
  }
 ],
 "metadata": {
  "kernelspec": {
   "display_name": "Python 3",
   "language": "python",
   "name": "python3"
  },
  "language_info": {
   "codemirror_mode": {
    "name": "ipython",
    "version": 3
   },
   "file_extension": ".py",
   "mimetype": "text/x-python",
   "name": "python",
   "nbconvert_exporter": "python",
   "pygments_lexer": "ipython3",
   "version": "3.10.11"
  }
 },
 "nbformat": 4,
 "nbformat_minor": 2
}
