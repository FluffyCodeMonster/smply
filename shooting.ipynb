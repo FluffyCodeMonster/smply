{
  "cells": [
    {
      "cell_type": "markdown",
      "metadata": {
        "id": "Z-Ze9f-0s7Uh"
      },
      "source": [
        "# Shooting Methods\n",
        "\n",
        "<a target=\"_blank\" href=\"https://colab.research.google.com/github/arthurrichards77/smply/blob/master/shooting.ipynb\">\n",
        "  <img src=\"https://colab.research.google.com/assets/colab-badge.svg\" alt=\"Open In Colab\"/>\n",
        "</a>\n",
        "\n",
        "These methods use numerical optimizers to design trajectories.  We have to design cost function and constraints that define the trajectories we want.  For example, we might look for the shortest path that respects the limits of our vehicle.  In these examples we'll use curvature limits, which are somewhat represenative of a fixed-wing aircraft problem.\n",
        "\n",
        "The first method studied is _single shooting_ where the cost is found by integrating candidate decisions forward from the starting point.  Later we'll look at _multiple shooting_ where the integration is done over multiple segments.  Although it makes the optimization larger in terms of number of decision variables, it actually makes it easier to solve in many cases.\n",
        "\n",
        "## Single Shooting\n",
        "\n",
        "### Problem definition\n",
        "\n",
        "We start by defining a start and goal pose.  These include heading angle as well as position."
      ]
    },
    {
      "cell_type": "code",
      "execution_count": 4,
      "metadata": {
        "id": "11X7fOj6s7Uj",
        "outputId": "385ad36c-4095-4c01-b854-a0ef7acda874",
        "colab": {
          "base_uri": "https://localhost:8080/",
          "height": 265
        }
      },
      "outputs": [
        {
          "output_type": "display_data",
          "data": {
            "text/plain": [
              "<Figure size 432x288 with 1 Axes>"
            ],
            "image/png": "[encoded data removed]"
          },
          "metadata": {
            "needs_background": "light"
          }
        }
      ],
      "source": [
        "import matplotlib.pyplot as plt\n",
        "%matplotlib inline\n",
        "import numpy as np\n",
        "from math import cos,sin\n",
        "\n",
        "x0 = np.array([0,0,-np.pi/4.])\n",
        "xG = np.array([6.,4.,-np.pi/4])\n",
        "\n",
        "\n",
        "def plot_pose(x,col):\n",
        "  # small length just for plotting\n",
        "  d = np.array([0,0.2])\n",
        "  # plot a dot with a pointing line\n",
        "  plt.plot(x[0]+d*cos(x[2]),x[1]+d*sin(x[2]),col)\n",
        "  plt.plot(x[0],x[1],col+'o')\n",
        "\n",
        "plot_pose(x0,'m')\n",
        "plot_pose(xG,'g')\n",
        "\n",
        "plt.show()"
      ]
    },
    {
      "cell_type": "markdown",
      "source": [
        "### Dynamics model\n",
        "\n",
        "Assuming the vehicle obeys a dynamic model of the form $\\dot{x}=f(x,u)$, define the function $f$."
      ],
      "metadata": {
        "id": "I2X5agpWxoO2"
      }
    },
    {
      "cell_type": "code",
      "source": [
        "def f(x,u):\n",
        "    return(np.array([u[0]*cos(x[2]),u[0]*sin(x[2]),u[0]*u[1]]))"
      ],
      "metadata": {
        "id": "LVemnJBEyGjt"
      },
      "execution_count": 5,
      "outputs": []
    },
    {
      "cell_type": "markdown",
      "source": [
        "Now, define a function that takes a sequence of time intervals and curvature commands, and integrates a path forward from the starting pose."
      ],
      "metadata": {
        "id": "EQaAQ5-DymTz"
      }
    },
    {
      "cell_type": "code",
      "execution_count": 91,
      "metadata": {
        "id": "Ok35fzfCs7Ul",
        "outputId": "f15e28db-c49e-4c43-9e5e-6b3c58a06405",
        "colab": {
          "base_uri": "https://localhost:8080/",
          "height": 265
        }
      },
      "outputs": [
        {
          "output_type": "display_data",
          "data": {
            "text/plain": [
              "<Figure size 432x288 with 1 Axes>"
            ],
            "image/png": "[encoded data removed]"
          },
          "metadata": {
            "needs_background": "light"
          }
        }
      ],
      "source": [
        "# define decision variable as vector of [time,curv,time,curv,time,curv]\n",
        "# here: turn with curvature 1. for 1.5 seconds, than 0. (straight) for 3. seconds, and finally turn with curvature -1. for 1.5 seconds. \n",
        "z = np.array([1.5,1.,3.,0.,1.5,-2.])\n",
        "\n",
        "from scipy.integrate import solve_ivp\n",
        "from scipy.interpolate import interp1d\n",
        "\n",
        "def path(z,x0):\n",
        "    # make sure it has even number of elements\n",
        "    nz = len(z)\n",
        "    assert(nz%2==0)\n",
        "    # curvature values\n",
        "    kv = z[range(1,nz,2)]\n",
        "    # time intervals\n",
        "    dv = z[range(0,nz,2)]\n",
        "    # if given a negative time intervals, make it zero\n",
        "    dv = [max(v,0) for v in dv]\n",
        "    # now construct function to interpolate commands over time\n",
        "    nv = len(kv)\n",
        "    uv = np.vstack((np.ones((1,nv+1)),np.hstack((kv,0.))))\n",
        "    tv = np.cumsum(np.append(0,dv))\n",
        "    te=np.linspace(0.,max(tv),100)\n",
        "    ut = interp1d(tv,uv,axis=1,kind='previous',bounds_error=False,fill_value='extrapolate')\n",
        "    # use this to define the uncontrolled dynamics: x-dot=fc(x,t)\n",
        "    def fc(t,x):\n",
        "        u = ut(t)\n",
        "        return(f(x,u))\n",
        "    # and do the integration\n",
        "    r = solve_ivp(fc,(min(te),max(te)),x0,t_eval=te)\n",
        "    return(r.y)\n",
        "\n",
        "p = path(z,x0)\n",
        "\n",
        "plt.plot(p[0,:],p[1,:])\n",
        "plot_pose(x0,'m')\n",
        "plot_pose(xG,'g')\n",
        "plt.axis('equal')\n",
        "plt.show()"
      ]
    },
    {
      "cell_type": "markdown",
      "source": [
        "OK, we have a path, but it gets nowhere near the goal yet as we haven't optimized anything.\n",
        "\n",
        "Next, define a cost function combining three terms:\n",
        "\n",
        "1. The total flight time, found by summing up the time intervals in the decision variable.  This is the primary cost.\n",
        "2. A penalty for missing the goal at the end.\n",
        "3. A penalty for using more than the available curvature."
      ],
      "metadata": {
        "id": "WmYdpHqd03XG"
      }
    },
    {
      "cell_type": "code",
      "execution_count": 119,
      "metadata": {
        "id": "DF_e1MQNs7Up",
        "outputId": "3f0cb49b-f2ae-44e7-f159-641f2e22222e",
        "colab": {
          "base_uri": "https://localhost:8080/"
        }
      },
      "outputs": [
        {
          "output_type": "stream",
          "name": "stdout",
          "text": [
            "8545.530604540565\n"
          ]
        }
      ],
      "source": [
        "from scipy.linalg import norm\n",
        "curvature_limit = 1.5\n",
        "\n",
        "def path_cost(z):\n",
        "    p = path(z,x0)\n",
        "    goal_miss_distance = norm(p[0:3,-1]-xG)\n",
        "    total_time_flown = sum(z[range(0,len(z),2)])\n",
        "    curvature_excess = [max(abs(c)-curvature_limit,0.) for c in z[range(1,len(z),2)]]\n",
        "    J = total_time_flown + 1000.*goal_miss_distance + 10000.*sum(curvature_excess)\n",
        "    return(J)\n",
        "\n",
        "print(path_cost(z))"
      ]
    },
    {
      "cell_type": "markdown",
      "source": [
        "Having defined the cost, we pass it to one of the built-in optimizers."
      ],
      "metadata": {
        "id": "M9ouBVCAMQ7H"
      }
    },
    {
      "cell_type": "code",
      "execution_count": 120,
      "metadata": {
        "id": "pZfKQJZFs7Up",
        "outputId": "69e42aa8-df9e-476e-f018-83f885e359a5",
        "colab": {
          "base_uri": "https://localhost:8080/"
        }
      },
      "outputs": [
        {
          "output_type": "stream",
          "name": "stdout",
          "text": [
            "   direc: array([[1., 0., 0., 0., 0., 0.],\n",
            "       [0., 1., 0., 0., 0., 0.],\n",
            "       [0., 0., 1., 0., 0., 0.],\n",
            "       [0., 0., 0., 1., 0., 0.],\n",
            "       [0., 0., 0., 0., 1., 0.],\n",
            "       [0., 0., 0., 0., 0., 1.]])\n",
            "     fun: 8.125297155480473\n",
            " message: 'Optimization terminated successfully.'\n",
            "    nfev: 1696\n",
            "     nit: 13\n",
            "  status: 0\n",
            " success: True\n",
            "       x: array([ 1.92828253e+00,  8.64487901e-01,  5.13183907e+00,  1.23924895e-04,\n",
            "        1.06493727e+00, -1.49978514e+00])\n"
          ]
        }
      ],
      "source": [
        "from scipy.optimize import minimize\n",
        "\n",
        "r = minimize(path_cost,z,method='Powell')\n",
        "print(r)"
      ]
    },
    {
      "cell_type": "markdown",
      "source": [
        "And now plot the result, showing the original guess for comparison."
      ],
      "metadata": {
        "id": "opiT-GJrMYlf"
      }
    },
    {
      "cell_type": "code",
      "execution_count": 121,
      "metadata": {
        "id": "PZySv_YPs7Up",
        "outputId": "7a618b7a-9a05-4f5d-95b1-72787e5d7107",
        "colab": {
          "base_uri": "https://localhost:8080/",
          "height": 265
        }
      },
      "outputs": [
        {
          "output_type": "display_data",
          "data": {
            "text/plain": [
              "<Figure size 432x288 with 1 Axes>"
            ],
            "image/png": "[encoded data removed]"
          },
          "metadata": {
            "needs_background": "light"
          }
        }
      ],
      "source": [
        "popt = path(r.x,x0)\n",
        "plt.plot(p[0,:],p[1,:],'m')\n",
        "plt.plot(popt[0,:],popt[1,:])\n",
        "plot_pose(x0,'m')\n",
        "plot_pose(xG,'g')\n",
        "plt.axis('equal')\n",
        "plt.show()"
      ]
    },
    {
      "cell_type": "markdown",
      "metadata": {
        "id": "eWJAFg5zs7Uq"
      },
      "source": [
        "## Multiple Shooting"
      ]
    },
    {
      "cell_type": "code",
      "execution_count": null,
      "metadata": {
        "id": "gXjngVkHs7Uq",
        "outputId": "03d446c3-1713-4779-fcd4-6da5c59950ea"
      },
      "outputs": [
        {
          "data": {
            "image/png": "[encoded data removed]",
            "text/plain": [
              "<Figure size 432x288 with 1 Axes>"
            ]
          },
          "metadata": {
            "needs_background": "light"
          },
          "output_type": "display_data"
        }
      ],
      "source": [
        "# define decision variable as vector of [time,curv,state,time,curv,state,time,curv]\n",
        "zm = np.array([1.,1.,   2.,1.,np.pi/3,3.,0.,   5.,4.,np.pi/4,1.,-1.])\n",
        "\n",
        "def pathm(z):\n",
        "    # make sure it has N*5 + 2 elements\n",
        "    nz = len(z)\n",
        "    assert((nz-2)%5==0)\n",
        "    # initial curvature values\n",
        "    ix = 0\n",
        "    xs = np.array([x0])\n",
        "    xi = x0\n",
        "    while ix<nz:\n",
        "        def fm(t,x):\n",
        "            u = np.array([1.,z[ix+1]])\n",
        "            return(f(x,u))\n",
        "        te=np.linspace(0.,z[ix],20)\n",
        "        r = solve_ivp(fm,(0.,z[ix]),xi,t_eval=te)\n",
        "        xs = np.append(xs,np.transpose(r.y),0)\n",
        "        ix = ix+5\n",
        "        xi = z[(ix-3):ix]\n",
        "    return(xs)\n",
        "\n",
        "p = pathm(zm)\n",
        "\n",
        "plt.plot(p[:,0],p[:,1],'-b.')\n",
        "plt.plot(x0[0]+d*cos(x0[2]),x0[1]+d*sin(x0[2]),'m')\n",
        "plt.plot(x0[0],x0[1],'mo')\n",
        "plt.plot(p_goal[0],p_goal[1],'gx')\n",
        "plt.axis('equal')\n",
        "plt.show()"
      ]
    },
    {
      "cell_type": "code",
      "execution_count": null,
      "metadata": {
        "id": "_OkqEn5Is7Uq",
        "outputId": "093989ea-4a44-4695-d4db-0b8bd5ee9983"
      },
      "outputs": [
        {
          "name": "stdout",
          "output_type": "stream",
          "text": [
            "407.96823232122074\n"
          ]
        }
      ],
      "source": [
        "def Jm(z):\n",
        "    tf = sum(z[range(0,len(z),5)])\n",
        "    p = pathm(z)\n",
        "    ge = norm(p_goal-p[-1,:])\n",
        "    for ii in range(20,len(p)-1,20):\n",
        "        ge=ge+norm(p[ii,:]-p[ii+1,:])\n",
        "    return(0.1*tf+100.*ge)\n",
        "\n",
        "print(Jm(zm))"
      ]
    },
    {
      "cell_type": "code",
      "execution_count": null,
      "metadata": {
        "id": "BstA7z3fs7Ur",
        "outputId": "37430250-ce66-4767-c5a6-f85b39148c83"
      },
      "outputs": [
        {
          "data": {
            "text/plain": [
              "[(0.1, 10.0),\n",
              " (-1.1, 1.1),\n",
              " (-10, 10),\n",
              " (-10, 10),\n",
              " (-3.141592653589793, 3.141592653589793),\n",
              " (0.1, 10.0),\n",
              " (-1.1, 1.1),\n",
              " (-10, 10),\n",
              " (-10, 10),\n",
              " (-3.141592653589793, 3.141592653589793),\n",
              " (0.1, 10.0),\n",
              " (-1.1, 1.1)]"
            ]
          },
          "execution_count": 16,
          "metadata": {},
          "output_type": "execute_result"
        }
      ],
      "source": [
        "x_lim = 10\n",
        "th_lim = np.pi\n",
        "bndsm = [b for ii in range(len(z)//2) for b in [(0.1,10.0),(-curv_lim,curv_lim),(-x_lim,x_lim),(-x_lim,x_lim),(-th_lim,th_lim)]]\n",
        "bndsm = bndsm[0:-3]\n",
        "assert(len(bndsm)==len(zm))\n",
        "bndsm"
      ]
    },
    {
      "cell_type": "code",
      "execution_count": null,
      "metadata": {
        "id": "dH5XJ9POs7Ur",
        "outputId": "cde30d7c-0e4d-4c4c-9978-b9249a514c87"
      },
      "outputs": [
        {
          "name": "stdout",
          "output_type": "stream",
          "text": [
            "     fun: 0.8679541659682287\n",
            "     jac: array([  86.79000323,   76.43788655,    5.58215756,   -7.7301063 ,\n",
            "         -9.50207892,   94.76949149,   18.72339013, -148.67160501,\n",
            "        -93.66740615,   -2.560046  ,  -79.20625395,    3.60567074])\n",
            " message: 'Optimization terminated successfully.'\n",
            "    nfev: 921\n",
            "     nit: 57\n",
            "    njev: 57\n",
            "  status: 0\n",
            " success: True\n",
            "       x: array([ 2.11047805e+00,  8.64800907e-01,  1.81472959e+00,  2.32033444e-01,\n",
            "        1.03974573e+00,  4.01492687e+00,  3.28596589e-03,  3.82514982e+00,\n",
            "        3.70731599e+00,  1.05293767e+00,  2.53687776e+00, -7.24643423e-01])\n"
          ]
        }
      ],
      "source": [
        "r = minimize(Jm,zm,method='SLSQP',bounds=bndsm)\n",
        "print(r)"
      ]
    },
    {
      "cell_type": "code",
      "execution_count": null,
      "metadata": {
        "id": "-AKGQgRSs7Ur",
        "outputId": "423db92f-bcf9-4027-86d4-cda2275f4247"
      },
      "outputs": [
        {
          "data": {
            "image/png": "[encoded data removed]",
            "text/plain": [
              "<Figure size 432x288 with 1 Axes>"
            ]
          },
          "metadata": {
            "needs_background": "light"
          },
          "output_type": "display_data"
        }
      ],
      "source": [
        "popt = pathm(r.x)\n",
        "\n",
        "plt.plot(p[:,0],p[:,1],'-m.')\n",
        "plt.plot(popt[:,0],popt[:,1],'-b.')\n",
        "plt.plot(x0[0]+d*cos(x0[2]),x0[1]+d*sin(x0[2]),'m')\n",
        "plt.plot(x0[0],x0[1],'mo')\n",
        "plt.plot(p_goal[0],p_goal[1],'gx')\n",
        "plt.axis('equal')\n",
        "plt.show()"
      ]
    },
    {
      "cell_type": "code",
      "execution_count": null,
      "metadata": {
        "id": "OYL0h4eIs7Ur",
        "outputId": "b4cfedc3-e3c9-4aea-c89e-e69d60ed5809"
      },
      "outputs": [
        {
          "data": {
            "image/png": "[encoded data removed]",
            "text/plain": [
              "<Figure size 432x288 with 1 Axes>"
            ]
          },
          "metadata": {
            "needs_background": "light"
          },
          "output_type": "display_data"
        }
      ],
      "source": [
        "# define decision variable as vector of [time,curv,state,time,curv,state,time,curv]\n",
        "zmo = np.array([1.,1.,   2.,2.,np.pi/4,2.,0.,   3.,4.,np.pi/4,1.,-0.,   5.,4.,np.pi/4,1.,-1.])\n",
        "#zmo = np.array([1.,1.,   1.5,-0.5,0.5*np.pi/4,3.,0.,   4.5,1.,2.0*np.pi/4,2.5,0.,   5.,4.,2.0*np.pi/4,2.,-1.])\n",
        "\n",
        "c_obs = np.array([3,2])\n",
        "r_obs = 1.\n",
        "ths = np.linspace(0.,2*np.pi,50)\n",
        "plt.plot(c_obs[0]+r_obs*np.array([sin(th) for th in ths]),c_obs[1]+r_obs*np.array([cos(th) for th in ths]),'r-')\n",
        "\n",
        "p = pathm(zmo)\n",
        "\n",
        "plt.plot(p[:,0],p[:,1],'-b.')\n",
        "plt.plot(x0[0]+d*cos(x0[2]),x0[1]+d*sin(x0[2]),'m')\n",
        "plt.plot(x0[0],x0[1],'mo')\n",
        "plt.plot(p_goal[0],p_goal[1],'gx')\n",
        "plt.axis('equal')\n",
        "plt.show()"
      ]
    },
    {
      "cell_type": "code",
      "execution_count": null,
      "metadata": {
        "id": "gIvSJDRks7Us",
        "outputId": "1a97f6f5-ad01-4bc5-edf0-cbd859af15cb"
      },
      "outputs": [
        {
          "name": "stdout",
          "output_type": "stream",
          "text": [
            "632.4732524609317\n"
          ]
        }
      ],
      "source": [
        "def Jmo(z):\n",
        "    tf = sum(z[range(0,len(z),5)])\n",
        "    p = pathm(z)\n",
        "    ge = norm(p_goal-p[-1,:])\n",
        "    for ii in range(20,len(p)-1,20):\n",
        "        ge=ge+norm(p[ii,:]-p[ii+1,:])\n",
        "    op = 0.\n",
        "    for pp in p:\n",
        "        inc = r_obs - norm(pp[0:2]-c_obs)\n",
        "        if inc>0:\n",
        "            op = op + inc\n",
        "    return(0.1*tf+100.*ge + 50.*op)\n",
        "\n",
        "print(Jmo(zm))"
      ]
    },
    {
      "cell_type": "code",
      "execution_count": null,
      "metadata": {
        "id": "KOMWOmaxs7Us",
        "outputId": "0acf2626-0393-4ac7-f06d-9397c118e15a"
      },
      "outputs": [
        {
          "data": {
            "text/plain": [
              "[(0.1, 10.0),\n",
              " (-1.1, 1.1),\n",
              " (-10, 10),\n",
              " (-10, 10),\n",
              " (-3.141592653589793, 3.141592653589793),\n",
              " (0.1, 10.0),\n",
              " (-1.1, 1.1),\n",
              " (-10, 10),\n",
              " (-10, 10),\n",
              " (-3.141592653589793, 3.141592653589793),\n",
              " (0.1, 10.0),\n",
              " (-1.1, 1.1),\n",
              " (-10, 10),\n",
              " (-10, 10),\n",
              " (-3.141592653589793, 3.141592653589793),\n",
              " (0.1, 10.0),\n",
              " (-1.1, 1.1)]"
            ]
          },
          "execution_count": 21,
          "metadata": {},
          "output_type": "execute_result"
        }
      ],
      "source": [
        "bndsmo = [b for ii in range((7+len(zmo))//5) for b in [(0.1,10.0),(-curv_lim,curv_lim),(-x_lim,x_lim),(-x_lim,x_lim),(-th_lim,th_lim)]]\n",
        "bndsmo = bndsmo[0:-3]\n",
        "assert(len(bndsmo)==len(zmo))\n",
        "bndsmo"
      ]
    },
    {
      "cell_type": "code",
      "execution_count": null,
      "metadata": {
        "id": "bXYOOrDNs7Us",
        "outputId": "e4ea7d85-ddb1-457e-d002-bf21a5e9655e"
      },
      "outputs": [
        {
          "name": "stdout",
          "output_type": "stream",
          "text": [
            "     fun: 0.9263414300776707\n",
            "     jac: array([-129.89550281, -316.19088011,   45.80610711,   66.09987354,\n",
            "        -72.03610168,   56.88321523, -222.44499324,   62.07358045,\n",
            "          4.20651154,  -46.82917234,   91.16206406, -135.29060832,\n",
            "        -64.45134581,  -36.02801347,   41.3363408 ,   -6.45902839,\n",
            "        183.00906218])\n",
            " message: 'Optimization terminated successfully.'\n",
            "    nfev: 1508\n",
            "     nit: 71\n",
            "    njev: 71\n",
            "  status: 0\n",
            " success: True\n",
            "       x: array([ 2.72997308,  0.90820806,  1.87130421,  0.91384868,  1.69398614,\n",
            "        1.8175965 , -0.33668668,  2.19656482,  2.67340552,  1.08202621,\n",
            "        2.35721409, -0.2501117 ,  3.8362889 ,  4.31919867,  0.49245881,\n",
            "        2.34334399, -0.54531182])\n"
          ]
        }
      ],
      "source": [
        "r = minimize(Jmo,zmo,method='SLSQP',bounds=bndsmo)\n",
        "print(r)"
      ]
    },
    {
      "cell_type": "code",
      "execution_count": null,
      "metadata": {
        "id": "7myZ3hm5s7Ut",
        "outputId": "7e82b45a-6609-42e9-d762-b3ca5abfbd42"
      },
      "outputs": [
        {
          "data": {
            "image/png": "[encoded data removed]",
            "text/plain": [
              "<Figure size 432x288 with 1 Axes>"
            ]
          },
          "metadata": {
            "needs_background": "light"
          },
          "output_type": "display_data"
        }
      ],
      "source": [
        "popt = pathm(r.x)\n",
        "\n",
        "plt.plot(p[:,0],p[:,1],'-m.')\n",
        "plt.plot(popt[:,0],popt[:,1],'-b.')\n",
        "plt.plot(c_obs[0]+r_obs*np.array([sin(th) for th in ths]),c_obs[1]+r_obs*np.array([cos(th) for th in ths]),'r-')\n",
        "plt.plot(x0[0]+d*cos(x0[2]),x0[1]+d*sin(x0[2]),'m')\n",
        "plt.plot(x0[0],x0[1],'mo')\n",
        "plt.plot(p_goal[0],p_goal[1],'gx')\n",
        "plt.plot()\n",
        "plt.axis('equal')\n",
        "plt.show()"
      ]
    }
  ],
  "metadata": {
    "kernelspec": {
      "display_name": "Python 3",
      "language": "python",
      "name": "python3"
    },
    "language_info": {
      "codemirror_mode": {
        "name": "ipython",
        "version": 3
      },
      "file_extension": ".py",
      "mimetype": "text/x-python",
      "name": "python",
      "nbconvert_exporter": "python",
      "pygments_lexer": "ipython3",
      "version": "3.7.6"
    },
    "colab": {
      "provenance": []
    }
  },
  "nbformat": 4,
  "nbformat_minor": 0
}