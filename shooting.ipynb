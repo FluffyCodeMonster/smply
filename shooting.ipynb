{
 "cells": [
  {
   "cell_type": "markdown",
   "metadata": {},
   "source": [
    "# Shooting Methods\n",
    "\n",
    "Key concept: given a set of inputs, integrate the motion forwards and determine a cost.  Use that cost, as a function of the inputs, in a numerical optimizer: find the control inputs that minimize the cost.\n",
    "\n",
    "## Single Shooting"
   ]
  },
  {
   "cell_type": "code",
   "execution_count": 1,
   "metadata": {},
   "outputs": [],
   "source": [
    "import matplotlib.pyplot as plt\n",
    "%matplotlib inline\n",
    "\n",
    "import numpy as np\n",
    "from math import cos,sin\n",
    "x0 = np.array([0,0,-np.pi/4.])\n",
    "d = np.array([0,0.1])\n",
    "\n",
    "plt.plot(x0[0]+d*cos(x0[2]),x0[1]+d*sin(x0[2]),'m')\n",
    "plt.plot(x0[0],x0[1],'mo')\n",
    "plt.show()"
   ]
  },
  {
   "cell_type": "code",
   "execution_count": 2,
   "metadata": {},
   "outputs": [
    {
     "data": {
      "image/png": "[encoded data removed]",
      "text/plain": [
       "<Figure size 432x288 with 1 Axes>"
      ]
     },
     "metadata": {
      "needs_background": "light"
     },
     "output_type": "display_data"
    }
   ],
   "source": [
    "def f(x,u):\n",
    "    return(np.array([u[0]*cos(x[2]),u[0]*sin(x[2]),u[0]*u[1]]))\n",
    "\n",
    "from scipy.integrate import solve_ivp\n",
    "from scipy.interpolate import interp1d\n",
    "\n",
    "uv = np.array([[1.,1.],[1.,0.],[1.,-1.],[1.,0.]])\n",
    "tv = np.array([0.,1.,2.,3.])\n",
    "ut = interp1d(tv,uv,axis=0,kind='previous')\n",
    "\n",
    "def fc(t,x):\n",
    "    u = ut(t)\n",
    "    return(f(x,u))\n",
    "\n",
    "te=np.linspace(0.,max(tv),100)\n",
    "r = solve_ivp(fc,(min(te),max(te)),x0,t_eval=te)\n",
    "plt.plot(r.y[0,:],r.y[1,:])\n",
    "plt.plot(x0[0]+d*cos(x0[2]),x0[1]+d*sin(x0[2]),'m')\n",
    "plt.plot(x0[0],x0[1],'mo')\n",
    "plt.axis('equal')\n",
    "plt.show()"
   ]
  },
  {
   "cell_type": "code",
   "execution_count": 3,
   "metadata": {},
   "outputs": [
    {
     "data": {
      "image/png": "[encoded data removed]",
      "text/plain": [
       "<Figure size 432x288 with 1 Axes>"
      ]
     },
     "metadata": {
      "needs_background": "light"
     },
     "output_type": "display_data"
    }
   ],
   "source": [
    "# define decision variable as vector of [time,curv,time,curv,time,curv]\n",
    "z = np.array([1.,-1.,5.,0.,1.,1.])\n",
    "\n",
    "def path(z):\n",
    "    # make sure it has even number of elements\n",
    "    nz = len(z)\n",
    "    assert(nz%2==0)\n",
    "    # curvature values\n",
    "    kv = z[range(1,nz,2)]\n",
    "    dv = z[range(0,nz,2)]\n",
    "    #assert(all(dv>0))\n",
    "    dv = [max(v,0) for v in dv]\n",
    "    nv = len(kv)\n",
    "    uv = np.vstack((np.ones((1,nv+1)),np.hstack((kv,0.))))\n",
    "    tv = np.cumsum(np.append(0,dv))\n",
    "    te=np.linspace(0.,max(tv),100)\n",
    "    ut = interp1d(tv,uv,axis=1,kind='previous',bounds_error=False,fill_value='extrapolate')\n",
    "    def fc(t,x):\n",
    "        #print(dv,tv,t)\n",
    "        u = ut(t)\n",
    "        return(f(x,u))\n",
    "    r = solve_ivp(fc,(min(te),max(te)),x0,t_eval=te)\n",
    "    return(r.y)\n",
    "\n",
    "p = path(z)\n",
    "\n",
    "plt.plot(p[0,:],p[1,:])\n",
    "plt.plot(x0[0]+d*cos(x0[2]),x0[1]+d*sin(x0[2]),'m')\n",
    "plt.plot(x0[0],x0[1],'mo')\n",
    "plt.axis('equal')\n",
    "plt.show()"
   ]
  },
  {
   "cell_type": "code",
   "execution_count": 4,
   "metadata": {},
   "outputs": [
    {
     "name": "stdout",
     "output_type": "stream",
     "text": [
      "12.662599419995676\n"
     ]
    }
   ],
   "source": [
    "from scipy.linalg import norm\n",
    "\n",
    "p_goal = np.array([6.,4.,-np.pi/4])\n",
    "\n",
    "def J(z):\n",
    "    p = path(z)\n",
    "    return(norm(p[0:3,-1]-p_goal))\n",
    "\n",
    "print(J(z))"
   ]
  },
  {
   "cell_type": "code",
   "execution_count": 5,
   "metadata": {},
   "outputs": [
    {
     "data": {
      "text/plain": [
       "[(0.1, 10.0), (-1.1, 1.1), (0.1, 10.0), (-1.1, 1.1), (0.1, 10.0), (-1.1, 1.1)]"
      ]
     },
     "execution_count": 5,
     "metadata": {},
     "output_type": "execute_result"
    }
   ],
   "source": [
    "curv_lim = 1.1\n",
    "bnds = [b for ii in range(len(z)//2) for b in [(0.1,10.0),(-curv_lim,curv_lim)]]\n",
    "bnds"
   ]
  },
  {
   "cell_type": "code",
   "execution_count": 6,
   "metadata": {},
   "outputs": [
    {
     "name": "stdout",
     "output_type": "stream",
     "text": [
      "     fun: 0.11546139377181554\n",
      "     jac: array([-0.78084014,  4.21821276, -0.78084014,  9.41852396, -0.78084014,\n",
      "        0.03803624])\n",
      " message: 'Optimization terminated successfully.'\n",
      "    nfev: 234\n",
      "     nit: 22\n",
      "    njev: 22\n",
      "  status: 0\n",
      " success: True\n",
      "       x: array([ 1.82527279,  0.91008007,  4.61155874,  0.03984777,  1.82527279,\n",
      "       -0.91357681])\n"
     ]
    }
   ],
   "source": [
    "from scipy.optimize import minimize\n",
    "\n",
    "r = minimize(J,z,method='SLSQP',bounds=bnds)\n",
    "print(r)"
   ]
  },
  {
   "cell_type": "code",
   "execution_count": 7,
   "metadata": {
    "scrolled": false
   },
   "outputs": [
    {
     "data": {
      "image/png": "[encoded data removed]",
      "text/plain": [
       "<Figure size 432x288 with 1 Axes>"
      ]
     },
     "metadata": {
      "needs_background": "light"
     },
     "output_type": "display_data"
    }
   ],
   "source": [
    "popt = path(r.x)\n",
    "plt.plot(p[0,:],p[1,:],'r')\n",
    "plt.plot(popt[0,:],popt[1,:])\n",
    "plt.plot(x0[0]+d*cos(x0[2]),x0[1]+d*sin(x0[2]),'m')\n",
    "plt.plot(x0[0],x0[1],'mo')\n",
    "plt.plot(p_goal[0],p_goal[1],'gx')\n",
    "plt.axis('equal')\n",
    "plt.show()"
   ]
  },
  {
   "cell_type": "code",
   "execution_count": 8,
   "metadata": {},
   "outputs": [
    {
     "name": "stdout",
     "output_type": "stream",
     "text": [
      "1266.9599419995677\n"
     ]
    }
   ],
   "source": [
    "def Jsp(z):\n",
    "    tf = sum(z[range(0,len(z),2)])\n",
    "    ge = J(z)\n",
    "    return(0.1*tf+100.*ge)\n",
    "\n",
    "print(Jsp(z))"
   ]
  },
  {
   "cell_type": "code",
   "execution_count": 9,
   "metadata": {
    "scrolled": true
   },
   "outputs": [
    {
     "name": "stdout",
     "output_type": "stream",
     "text": [
      "     fun: 400.3843645877866\n",
      "     jac: array([-9.29893417e+01,  9.37134520e+07, -9.29893417e+01, -3.07600372e+02,\n",
      "       -9.29893417e+01, -9.13446426e+00])\n",
      " message: 'Inequality constraints incompatible'\n",
      "    nfev: 66\n",
      "     nit: 7\n",
      "    njev: 7\n",
      "  status: 4\n",
      " success: False\n",
      "       x: array([ 0.72173449,  1.09997919,  2.53478154,  0.28239041,  0.72173449,\n",
      "       -1.1       ])\n"
     ]
    }
   ],
   "source": [
    "r = minimize(Jsp,z,method='SLSQP',bounds=bnds)\n",
    "print(r)"
   ]
  },
  {
   "cell_type": "code",
   "execution_count": 10,
   "metadata": {},
   "outputs": [
    {
     "data": {
      "image/png": "[encoded data removed]",
      "text/plain": [
       "<Figure size 432x288 with 1 Axes>"
      ]
     },
     "metadata": {
      "needs_background": "light"
     },
     "output_type": "display_data"
    }
   ],
   "source": [
    "popt = path(r.x)\n",
    "plt.plot(p[0,:],p[1,:],'r')\n",
    "plt.plot(popt[0,:],popt[1,:])\n",
    "plt.plot(x0[0]+d*cos(x0[2]),x0[1]+d*sin(x0[2]),'m')\n",
    "plt.plot(x0[0],x0[1],'mo')\n",
    "plt.plot(p_goal[0],p_goal[1],'gx')\n",
    "plt.axis('equal')\n",
    "plt.show()"
   ]
  },
  {
   "cell_type": "code",
   "execution_count": 11,
   "metadata": {},
   "outputs": [
    {
     "name": "stdout",
     "output_type": "stream",
     "text": [
      "1266.9599419995677\n"
     ]
    }
   ],
   "source": [
    "def Jspbdd(z):\n",
    "    J = Jsp(z)\n",
    "    for (ii,(lo,hi)) in enumerate(bnds):\n",
    "        if z[ii]>hi:\n",
    "            J = J + 1e2*(z[ii]-hi)\n",
    "        elif z[ii]<lo:\n",
    "            J = J + 1e2*(lo-z[ii])\n",
    "    return(J)\n",
    "\n",
    "print(Jspbdd(z))"
   ]
  },
  {
   "cell_type": "code",
   "execution_count": 12,
   "metadata": {},
   "outputs": [
    {
     "name": "stdout",
     "output_type": "stream",
     "text": [
      "   direc: array([[-1.73875204e-03,  1.21304533e-05,  1.63276654e-07,\n",
      "         4.32427309e-09,  4.03721605e-03, -2.99892703e-12],\n",
      "       [-1.03454788e-02,  1.22009701e-04, -5.00419454e-02,\n",
      "         3.73031798e-03,  4.27392018e-02, -2.15645415e-03],\n",
      "       [ 0.00000000e+00,  0.00000000e+00,  1.00000000e+00,\n",
      "         0.00000000e+00,  0.00000000e+00,  0.00000000e+00],\n",
      "       [ 0.00000000e+00,  0.00000000e+00,  0.00000000e+00,\n",
      "         1.00000000e+00,  0.00000000e+00,  0.00000000e+00],\n",
      "       [ 0.00000000e+00,  0.00000000e+00,  0.00000000e+00,\n",
      "         0.00000000e+00,  1.00000000e+00,  0.00000000e+00],\n",
      "       [-7.03659746e-03,  3.96221690e-02,  3.55508394e-03,\n",
      "         3.93614142e-02,  1.19853234e-01, -1.05148972e-02]])\n",
      "     fun: 11.79380255333451\n",
      " message: 'Optimization terminated successfully.'\n",
      "    nfev: 2692\n",
      "     nit: 23\n",
      "  status: 0\n",
      " success: True\n",
      "       x: array([ 1.35049472,  1.00141749,  1.296813  ,  1.07743261,  7.02541616,\n",
      "       -0.36391805])\n"
     ]
    }
   ],
   "source": [
    "r = minimize(Jspbdd,z,method='Powell')\n",
    "print(r)"
   ]
  },
  {
   "cell_type": "code",
   "execution_count": 13,
   "metadata": {},
   "outputs": [
    {
     "data": {
      "image/png": "[encoded data removed]",
      "text/plain": [
       "<Figure size 432x288 with 1 Axes>"
      ]
     },
     "metadata": {
      "needs_background": "light"
     },
     "output_type": "display_data"
    }
   ],
   "source": [
    "popt = path(r.x)\n",
    "plt.plot(p[0,:],p[1,:],'m')\n",
    "plt.plot(popt[0,:],popt[1,:])\n",
    "plt.plot(x0[0]+d*cos(x0[2]),x0[1]+d*sin(x0[2]),'m')\n",
    "plt.plot(x0[0],x0[1],'mo')\n",
    "plt.plot(p_goal[0],p_goal[1],'gx')\n",
    "plt.axis('equal')\n",
    "plt.show()"
   ]
  },
  {
   "cell_type": "markdown",
   "metadata": {},
   "source": [
    "## Multiple Shooting"
   ]
  },
  {
   "cell_type": "code",
   "execution_count": 14,
   "metadata": {},
   "outputs": [
    {
     "data": {
      "image/png": "[encoded data removed]",
      "text/plain": [
       "<Figure size 432x288 with 1 Axes>"
      ]
     },
     "metadata": {
      "needs_background": "light"
     },
     "output_type": "display_data"
    }
   ],
   "source": [
    "# define decision variable as vector of [time,curv,state,time,curv,state,time,curv]\n",
    "zm = np.array([1.,1.,   2.,2.,np.pi/4,1.,0.,   5.,4.,np.pi/4,1.,-1.])\n",
    "\n",
    "def pathm(z):\n",
    "    # make sure it has N*5 + 2 elements\n",
    "    nz = len(z)\n",
    "    assert((nz-2)%5==0)\n",
    "    # initial curvature values\n",
    "    ix = 0\n",
    "    xs = np.array([x0])\n",
    "    xi = x0\n",
    "    while ix<nz:\n",
    "        def fm(t,x):\n",
    "            u = np.array([1.,z[ix+1]])\n",
    "            return(f(x,u))\n",
    "        te=np.linspace(0.,z[ix],20)\n",
    "        r = solve_ivp(fm,(0.,z[ix]),xi,t_eval=te)\n",
    "        xs = np.append(xs,np.transpose(r.y),0)\n",
    "        ix = ix+5\n",
    "        xi = z[(ix-3):ix]\n",
    "    return(xs)\n",
    "\n",
    "p = pathm(zm)\n",
    "\n",
    "plt.plot(p[:,0],p[:,1],'-b.')\n",
    "plt.plot(x0[0]+d*cos(x0[2]),x0[1]+d*sin(x0[2]),'m')\n",
    "plt.plot(x0[0],x0[1],'mo')\n",
    "plt.plot(p_goal[0],p_goal[1],'gx')\n",
    "plt.axis('equal')\n",
    "plt.show()"
   ]
  },
  {
   "cell_type": "code",
   "execution_count": 15,
   "metadata": {},
   "outputs": [
    {
     "name": "stdout",
     "output_type": "stream",
     "text": [
      "584.9484849926286\n"
     ]
    }
   ],
   "source": [
    "def Jm(z):\n",
    "    tf = sum(z[range(0,len(z),5)])\n",
    "    p = pathm(z)\n",
    "    ge = norm(p_goal-p[-1,:])\n",
    "    for ii in range(20,len(p)-1,20):\n",
    "        ge=ge+norm(p[ii,:]-p[ii+1,:])\n",
    "    return(0.1*tf+100.*ge)\n",
    "\n",
    "print(Jm(zm))"
   ]
  },
  {
   "cell_type": "code",
   "execution_count": 16,
   "metadata": {},
   "outputs": [
    {
     "data": {
      "text/plain": [
       "[(0.1, 10.0),\n",
       " (-1.1, 1.1),\n",
       " (-10, 10),\n",
       " (-10, 10),\n",
       " (-3.141592653589793, 3.141592653589793),\n",
       " (0.1, 10.0),\n",
       " (-1.1, 1.1),\n",
       " (-10, 10),\n",
       " (-10, 10),\n",
       " (-3.141592653589793, 3.141592653589793),\n",
       " (0.1, 10.0),\n",
       " (-1.1, 1.1)]"
      ]
     },
     "execution_count": 16,
     "metadata": {},
     "output_type": "execute_result"
    }
   ],
   "source": [
    "x_lim = 10\n",
    "th_lim = np.pi\n",
    "bndsm = [b for ii in range(len(z)//2) for b in [(0.1,10.0),(-curv_lim,curv_lim),(-x_lim,x_lim),(-x_lim,x_lim),(-th_lim,th_lim)]]\n",
    "bndsm = bndsm[0:-3]\n",
    "assert(len(bndsm)==len(zm))\n",
    "bndsm"
   ]
  },
  {
   "cell_type": "code",
   "execution_count": 17,
   "metadata": {},
   "outputs": [
    {
     "name": "stdout",
     "output_type": "stream",
     "text": [
      "     fun: 0.936706065078733\n",
      "     jac: array([-8.54094381e+01, -4.89150975e+02, -5.58404043e+01,  7.31036805e+01,\n",
      "        3.15112480e+02, -3.05629201e-01,  5.03110750e+02, -7.10020831e+01,\n",
      "       -5.67757088e+01, -7.71882386e+01, -7.06567715e+01, -7.70146191e+01])\n",
      " message: 'Optimization terminated successfully.'\n",
      "    nfev: 875\n",
      "     nit: 55\n",
      "    njev: 55\n",
      "  status: 0\n",
      " success: True\n",
      "       x: array([ 3.442081  ,  0.69251184,  2.46455126,  1.06070985,  1.59828563,\n",
      "        3.17566814, -0.24487795,  3.55915786,  3.95701102,  0.82061804,\n",
      "        2.72475153, -0.58941744])\n"
     ]
    }
   ],
   "source": [
    "r = minimize(Jm,zm,method='SLSQP',bounds=bndsm)\n",
    "print(r)"
   ]
  },
  {
   "cell_type": "code",
   "execution_count": 18,
   "metadata": {},
   "outputs": [
    {
     "data": {
      "image/png": "[encoded data removed]",
      "text/plain": [
       "<Figure size 432x288 with 1 Axes>"
      ]
     },
     "metadata": {
      "needs_background": "light"
     },
     "output_type": "display_data"
    }
   ],
   "source": [
    "popt = pathm(r.x)\n",
    "\n",
    "plt.plot(p[:,0],p[:,1],'-m.')\n",
    "plt.plot(popt[:,0],popt[:,1],'-b.')\n",
    "plt.plot(x0[0]+d*cos(x0[2]),x0[1]+d*sin(x0[2]),'m')\n",
    "plt.plot(x0[0],x0[1],'mo')\n",
    "plt.plot(p_goal[0],p_goal[1],'gx')\n",
    "plt.axis('equal')\n",
    "plt.show()"
   ]
  },
  {
   "cell_type": "code",
   "execution_count": 25,
   "metadata": {},
   "outputs": [
    {
     "data": {
      "image/png": "[encoded data removed]",
      "text/plain": [
       "<Figure size 432x288 with 1 Axes>"
      ]
     },
     "metadata": {
      "needs_background": "light"
     },
     "output_type": "display_data"
    }
   ],
   "source": [
    "# define decision variable as vector of [time,curv,state,time,curv,state,time,curv]\n",
    "zmo = np.array([1.,1.,   2.,2.,np.pi/4,1.,0.,   3.,4.,np.pi/4,1.,-0.,   5.,4.,np.pi/4,1.,-1.])\n",
    "zmo = np.array([2.,1.,   2.,0.,0*np.pi/4,2.,0.,   5.,1.,2*np.pi/4,2.,0.,   5.,4.,np.pi/4,1.,-1.])\n",
    "\n",
    "c_obs = np.array([3,2])\n",
    "r_obs = 1.\n",
    "ths = np.linspace(0.,2*np.pi,50)\n",
    "plt.plot(c_obs[0]+r_obs*np.array([sin(th) for th in ths]),c_obs[1]+r_obs*np.array([cos(th) for th in ths]),'r-')\n",
    "\n",
    "p = pathm(zmo)\n",
    "\n",
    "plt.plot(p[:,0],p[:,1],'-b.')\n",
    "plt.plot(x0[0]+d*cos(x0[2]),x0[1]+d*sin(x0[2]),'m')\n",
    "plt.plot(x0[0],x0[1],'mo')\n",
    "plt.plot(p_goal[0],p_goal[1],'gx')\n",
    "plt.axis('equal')\n",
    "plt.show()"
   ]
  },
  {
   "cell_type": "code",
   "execution_count": 26,
   "metadata": {},
   "outputs": [
    {
     "name": "stdout",
     "output_type": "stream",
     "text": [
      "793.1323021409326\n"
     ]
    }
   ],
   "source": [
    "def Jmo(z):\n",
    "    tf = sum(z[range(0,len(z),5)])\n",
    "    p = pathm(z)\n",
    "    ge = norm(p_goal-p[-1,:])\n",
    "    for ii in range(20,len(p)-1,20):\n",
    "        ge=ge+norm(p[ii,:]-p[ii+1,:])\n",
    "    op = 0.\n",
    "    for pp in p:\n",
    "        inc = r_obs - norm(pp[0:2]-c_obs)\n",
    "        if inc>0:\n",
    "            op = op + inc\n",
    "    return(0.1*tf+100.*ge + 50.*op)\n",
    "\n",
    "print(Jmo(zm))"
   ]
  },
  {
   "cell_type": "code",
   "execution_count": 27,
   "metadata": {},
   "outputs": [
    {
     "data": {
      "text/plain": [
       "[(0.1, 10.0),\n",
       " (-1.1, 1.1),\n",
       " (-10, 10),\n",
       " (-10, 10),\n",
       " (-3.141592653589793, 3.141592653589793),\n",
       " (0.1, 10.0),\n",
       " (-1.1, 1.1),\n",
       " (-10, 10),\n",
       " (-10, 10),\n",
       " (-3.141592653589793, 3.141592653589793),\n",
       " (0.1, 10.0),\n",
       " (-1.1, 1.1),\n",
       " (-10, 10),\n",
       " (-10, 10),\n",
       " (-3.141592653589793, 3.141592653589793),\n",
       " (0.1, 10.0),\n",
       " (-1.1, 1.1)]"
      ]
     },
     "execution_count": 27,
     "metadata": {},
     "output_type": "execute_result"
    }
   ],
   "source": [
    "bndsmo = [b for ii in range((7+len(zmo))//5) for b in [(0.1,10.0),(-curv_lim,curv_lim),(-x_lim,x_lim),(-x_lim,x_lim),(-th_lim,th_lim)]]\n",
    "bndsmo = bndsmo[0:-3]\n",
    "assert(len(bndsmo)==len(zmo))\n",
    "bndsmo"
   ]
  },
  {
   "cell_type": "code",
   "execution_count": 28,
   "metadata": {},
   "outputs": [
    {
     "name": "stdout",
     "output_type": "stream",
     "text": [
      "     fun: 0.9344955152512835\n",
      "     jac: array([ -71.53482575,  -96.46252575,  -18.35108881,  -21.5111002 ,\n",
      "         91.15797999,  -42.99088428,  -85.49214793,  136.4553502 ,\n",
      "        -61.07242369, -172.10051999,  -52.30267439, -340.81457232,\n",
      "       -141.36020167,  -20.77189245,  -10.91164282,  -42.84116824,\n",
      "        -36.77680793])\n",
      " message: 'Optimization terminated successfully.'\n",
      "    nfev: 1524\n",
      "     nit: 71\n",
      "    njev: 71\n",
      "  status: 0\n",
      " success: True\n",
      "       x: array([ 1.59163957,  0.54867237,  1.44874242, -0.52678901,  0.08789524,\n",
      "        2.37486498,  0.36407135,  3.44586441,  0.61722923,  0.95251981,\n",
      "        2.63960403,  0.26991881,  4.11526839,  3.11314992,  1.66499919,\n",
      "        2.71241312, -0.90340032])\n"
     ]
    }
   ],
   "source": [
    "r = minimize(Jmo,zmo,method='SLSQP',bounds=bndsmo)\n",
    "print(r)"
   ]
  },
  {
   "cell_type": "code",
   "execution_count": 29,
   "metadata": {},
   "outputs": [
    {
     "data": {
      "image/png": "[encoded data removed]",
      "text/plain": [
       "<Figure size 432x288 with 1 Axes>"
      ]
     },
     "metadata": {
      "needs_background": "light"
     },
     "output_type": "display_data"
    }
   ],
   "source": [
    "popt = pathm(r.x)\n",
    "\n",
    "plt.plot(p[:,0],p[:,1],'-m.')\n",
    "plt.plot(popt[:,0],popt[:,1],'-b.')\n",
    "plt.plot(c_obs[0]+r_obs*np.array([sin(th) for th in ths]),c_obs[1]+r_obs*np.array([cos(th) for th in ths]),'r-')\n",
    "plt.plot(x0[0]+d*cos(x0[2]),x0[1]+d*sin(x0[2]),'m')\n",
    "plt.plot(x0[0],x0[1],'mo')\n",
    "plt.plot(p_goal[0],p_goal[1],'gx')\n",
    "plt.plot()\n",
    "plt.axis('equal')\n",
    "plt.show()"
   ]
  }
 ],
 "metadata": {
  "kernelspec": {
   "display_name": "Python 3",
   "language": "python",
   "name": "python3"
  },
  "language_info": {
   "codemirror_mode": {
    "name": "ipython",
    "version": 3
   },
   "file_extension": ".py",
   "mimetype": "text/x-python",
   "name": "python",
   "nbconvert_exporter": "python",
   "pygments_lexer": "ipython3",
   "version": "3.6.10"
  }
 },
 "nbformat": 4,
 "nbformat_minor": 2
}
