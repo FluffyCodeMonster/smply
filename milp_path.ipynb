{
  "cells": [
    {
      "cell_type": "markdown",
      "metadata": {
        "id": "BL50JkgtmttP"
      },
      "source": [
        "# Traveling Salesman Problem\n",
        "\n",
        "<a target=\"_blank\" href=\"https://colab.research.google.com/github/arthurrichards77/smply/blob/milp/milp_path.ipynb\">\n",
        "  <img src=\"https://colab.research.google.com/assets/colab-badge.svg\" alt=\"Open In Colab\"/>\n",
        "</a>\n",
        "\n",
        "This example shows how an optimization can be used to solve a Traveling Salesman Problem over a roadmap.\n",
        "\n",
        "First we'll need some libraries including the [PuLP linear programming library](https://coin-or.github.io/pulp/)."
      ]
    },
    {
      "cell_type": "code",
      "execution_count": 53,
      "metadata": {
        "id": "o3vV4PdSmttQ",
        "outputId": "9db42bef-6da6-4168-a1f1-37907cc0c987",
        "colab": {
          "base_uri": "https://localhost:8080/"
        }
      },
      "outputs": [
        {
          "output_type": "stream",
          "name": "stdout",
          "text": [
            "Looking in indexes: https://pypi.org/simple, https://us-python.pkg.dev/colab-wheels/public/simple/\n",
            "Requirement already satisfied: pulp in /usr/local/lib/python3.8/dist-packages (2.7.0)\n"
          ]
        }
      ],
      "source": [
        "import matplotlib.pyplot as plt\n",
        "%matplotlib inline\n",
        "import numpy as np\n",
        "import random\n",
        "!pip install pulp\n",
        "from pulp import *"
      ]
    },
    {
      "cell_type": "markdown",
      "metadata": {
        "id": "JvcQLdxcmttR"
      },
      "source": [
        "## Problem definition\n",
        "\n",
        "Start by defining some obstacles in the form of boxes, [left,bottom,right,top], and plot them."
      ]
    },
    {
      "cell_type": "code",
      "source": [
        "obstacles = np.array([(0,2,4,4),(2,5,7,9)])\n",
        "\n",
        "def plot_obst_box(b):\n",
        "  plt.plot(b[[0,0,2,2,0]],b[[1,3,3,1,1]],'r')\n",
        "\n",
        "for ob in obstacles:\n",
        "  plot_obst_box(ob)\n",
        "\n",
        "plt.axis('equal')\n",
        "plt.show()"
      ],
      "metadata": {
        "id": "GOAgycponG2P",
        "outputId": "6cedc90a-583f-49d9-b089-3851c0e0c87e",
        "colab": {
          "base_uri": "https://localhost:8080/",
          "height": 265
        }
      },
      "execution_count": 54,
      "outputs": [
        {
          "output_type": "display_data",
          "data": {
            "text/plain": [
              "<Figure size 432x288 with 1 Axes>"
            ],
            "image/png": "[encoded data removed]"
          },
          "metadata": {
            "needs_background": "light"
          }
        }
      ]
    },
    {
      "cell_type": "markdown",
      "source": [
        "Also define a start and end state - including both position and velocity, hence a 4D vector."
      ],
      "metadata": {
        "id": "Kon4moskoDC-"
      }
    },
    {
      "cell_type": "code",
      "source": [
        "x_start = np.array([1,1,2,0])\n",
        "x_goal = np.array([4,10,1,1])\n",
        "\n",
        "def plot_state(x, col, dt = 0.2):\n",
        "  plt.plot(x[0],x[1],col+'o')\n",
        "  plt.plot([x[0],x[0]+dt*x[2]],[x[1],x[1]+dt*x[3]],col+'-')\n",
        "\n",
        "plot_state(x_goal,'g')\n",
        "plot_state(x_start, 'b')\n",
        "\n",
        "for ob in obstacles:\n",
        "  plot_obst_box(ob)\n",
        "\n",
        "plt.axis('equal')\n",
        "plt.show()"
      ],
      "metadata": {
        "id": "HH1iito7obWs",
        "outputId": "dce8e8bf-1a1d-45f2-9e25-5d4cc8c7a57d",
        "colab": {
          "base_uri": "https://localhost:8080/",
          "height": 265
        }
      },
      "execution_count": 55,
      "outputs": [
        {
          "output_type": "display_data",
          "data": {
            "text/plain": [
              "<Figure size 432x288 with 1 Axes>"
            ],
            "image/png": "[encoded data removed]"
          },
          "metadata": {
            "needs_background": "light"
          }
        }
      ]
    },
    {
      "cell_type": "markdown",
      "source": [
        "Define a dynamics model $A,B$ for a standard model $x(k+1) = Ax(k)+Bu(k)$.  I'll use a simple double integrator (\"SUVAT\") model with acceperation inputs."
      ],
      "metadata": {
        "id": "dP4QRlYU7LNR"
      }
    },
    {
      "cell_type": "code",
      "source": [
        "time_step = 0.5\n",
        "A = np.array([[1., 0., time_step, 0.],[0., 1., 0., time_step],[0., 0., 1., 0.],[0., 0., 0., 1.]])\n",
        "B = np.array([[0.5*time_step*time_step, 0.],[0., 0.5*time_step*time_step],[time_step, 0.], [0., time_step]])\n",
        "print(A)\n",
        "print(B)"
      ],
      "metadata": {
        "id": "9AulHPcX7amy",
        "outputId": "d273fc34-f275-461a-b942-07dde57dd528",
        "colab": {
          "base_uri": "https://localhost:8080/"
        }
      },
      "execution_count": 56,
      "outputs": [
        {
          "output_type": "stream",
          "name": "stdout",
          "text": [
            "[[1.  0.  0.5 0. ]\n",
            " [0.  1.  0.  0.5]\n",
            " [0.  0.  1.  0. ]\n",
            " [0.  0.  0.  1. ]]\n",
            "[[0.125 0.   ]\n",
            " [0.    0.125]\n",
            " [0.5   0.   ]\n",
            " [0.    0.5  ]]\n"
          ]
        }
      ]
    },
    {
      "cell_type": "markdown",
      "source": [
        "Finally define some limits on state and acceleration input."
      ],
      "metadata": {
        "id": "iasLjA_c8ggd"
      }
    },
    {
      "cell_type": "code",
      "source": [
        "x_lower_limit = np.array([-10., -10, -3., -3.])\n",
        "x_upper_limit = np.array([10., 10, 3., 3.])\n",
        "u_lower_limit = np.array([-5., -5.])\n",
        "u_upper_limit = np.array([5., 5.])"
      ],
      "metadata": {
        "id": "Ls4WZf3l8lRd"
      },
      "execution_count": 57,
      "outputs": []
    },
    {
      "cell_type": "markdown",
      "metadata": {
        "id": "YxWcWc_6mttU"
      },
      "source": [
        "## The MILP optimization\n",
        "\n",
        "Create a new optimization model and include decision variables for the states and inputs over a fixed time horizon."
      ]
    },
    {
      "cell_type": "code",
      "execution_count": 58,
      "metadata": {
        "id": "etkl6P19mttV",
        "outputId": "c0171b0c-3189-4d19-d536-8cdba3bb2169",
        "colab": {
          "base_uri": "https://localhost:8080/"
        }
      },
      "outputs": [
        {
          "output_type": "stream",
          "name": "stdout",
          "text": [
            "{0: {0: x_0_0, 1: x_0_1, 2: x_0_2, 3: x_0_3, 4: x_0_4, 5: x_0_5, 6: x_0_6, 7: x_0_7, 8: x_0_8, 9: x_0_9, 10: x_0_10, 11: x_0_11}, 1: {0: x_1_0, 1: x_1_1, 2: x_1_2, 3: x_1_3, 4: x_1_4, 5: x_1_5, 6: x_1_6, 7: x_1_7, 8: x_1_8, 9: x_1_9, 10: x_1_10, 11: x_1_11}, 2: {0: x_2_0, 1: x_2_1, 2: x_2_2, 3: x_2_3, 4: x_2_4, 5: x_2_5, 6: x_2_6, 7: x_2_7, 8: x_2_8, 9: x_2_9, 10: x_2_10, 11: x_2_11}, 3: {0: x_3_0, 1: x_3_1, 2: x_3_2, 3: x_3_3, 4: x_3_4, 5: x_3_5, 6: x_3_6, 7: x_3_7, 8: x_3_8, 9: x_3_9, 10: x_3_10, 11: x_3_11}}\n"
          ]
        }
      ],
      "source": [
        "num_steps = 12\n",
        "num_states = len(x_lower_limit)\n",
        "num_inputs = len(u_lower_limit)\n",
        "\n",
        "prob = LpProblem('path',LpMinimize)\n",
        "x = LpVariable.dicts(\"x\",(range(num_states),range(num_steps)))\n",
        "u = LpVariable.dicts(\"u\",(range(num_inputs),range(num_steps)))\n",
        "print(x)"
      ]
    },
    {
      "cell_type": "markdown",
      "source": [
        "Initial and final value constraints."
      ],
      "metadata": {
        "id": "cDmD-KhnornG"
      }
    },
    {
      "cell_type": "code",
      "source": [
        "for n in range(num_states):\n",
        "  prob += (x[n][0]==x_start[n])\n",
        "  prob += (x[n][num_steps-1]==x_goal[n])\n",
        "\n",
        "prob"
      ],
      "metadata": {
        "id": "mS8KgpwYonVw",
        "outputId": "e8d10be7-2138-4fb9-b5df-770fa57afdc2",
        "colab": {
          "base_uri": "https://localhost:8080/"
        }
      },
      "execution_count": 59,
      "outputs": [
        {
          "output_type": "execute_result",
          "data": {
            "text/plain": [
              "path:\n",
              "MINIMIZE\n",
              "None\n",
              "SUBJECT TO\n",
              "_C1: x_0_0 = 1\n",
              "\n",
              "_C2: x_0_11 = 4\n",
              "\n",
              "_C3: x_1_0 = 1\n",
              "\n",
              "_C4: x_1_11 = 10\n",
              "\n",
              "_C5: x_2_0 = 2\n",
              "\n",
              "_C6: x_2_11 = 1\n",
              "\n",
              "_C7: x_3_0 = 0\n",
              "\n",
              "_C8: x_3_11 = 1\n",
              "\n",
              "VARIABLES\n",
              "x_0_0 free Continuous\n",
              "x_0_11 free Continuous\n",
              "x_1_0 free Continuous\n",
              "x_1_11 free Continuous\n",
              "x_2_0 free Continuous\n",
              "x_2_11 free Continuous\n",
              "x_3_0 free Continuous\n",
              "x_3_11 free Continuous"
            ]
          },
          "metadata": {},
          "execution_count": 59
        }
      ]
    },
    {
      "cell_type": "markdown",
      "source": [
        "Now add the dynamics constraints.  This rather clumsily reproduces matrix multiplication in code, but PuLP doesn't handle matrix arithmetic natively, so we have to help."
      ],
      "metadata": {
        "id": "EJnMQ3-ypUIn"
      }
    },
    {
      "cell_type": "code",
      "source": [
        "for k in range(num_steps - 1):\n",
        "  for n in range(num_states):\n",
        "    prob += (x[n][k+1]==sum([A[n,m]*x[m][k] for m in range(num_states)] + [B[n,p]*u[p][k] for p in range(num_inputs)]))\n",
        "\n",
        "prob"
      ],
      "metadata": {
        "id": "TbcNZDMtpJl9",
        "outputId": "ff079dc0-0780-40d3-dadd-6aff90d423e8",
        "colab": {
          "base_uri": "https://localhost:8080/"
        }
      },
      "execution_count": 60,
      "outputs": [
        {
          "output_type": "execute_result",
          "data": {
            "text/plain": [
              "path:\n",
              "MINIMIZE\n",
              "None\n",
              "SUBJECT TO\n",
              "_C1: x_0_0 = 1\n",
              "\n",
              "_C2: x_0_11 = 4\n",
              "\n",
              "_C3: x_1_0 = 1\n",
              "\n",
              "_C4: x_1_11 = 10\n",
              "\n",
              "_C5: x_2_0 = 2\n",
              "\n",
              "_C6: x_2_11 = 1\n",
              "\n",
              "_C7: x_3_0 = 0\n",
              "\n",
              "_C8: x_3_11 = 1\n",
              "\n",
              "_C9: - 0.125 u_0_0 - x_0_0 + x_0_1 - 0.5 x_2_0 = 0\n",
              "\n",
              "_C10: - 0.125 u_1_0 - x_1_0 + x_1_1 - 0.5 x_3_0 = 0\n",
              "\n",
              "_C11: - 0.5 u_0_0 - x_2_0 + x_2_1 = 0\n",
              "\n",
              "_C12: - 0.5 u_1_0 - x_3_0 + x_3_1 = 0\n",
              "\n",
              "_C13: - 0.125 u_0_1 - x_0_1 + x_0_2 - 0.5 x_2_1 = 0\n",
              "\n",
              "_C14: - 0.125 u_1_1 - x_1_1 + x_1_2 - 0.5 x_3_1 = 0\n",
              "\n",
              "_C15: - 0.5 u_0_1 - x_2_1 + x_2_2 = 0\n",
              "\n",
              "_C16: - 0.5 u_1_1 - x_3_1 + x_3_2 = 0\n",
              "\n",
              "_C17: - 0.125 u_0_2 - x_0_2 + x_0_3 - 0.5 x_2_2 = 0\n",
              "\n",
              "_C18: - 0.125 u_1_2 - x_1_2 + x_1_3 - 0.5 x_3_2 = 0\n",
              "\n",
              "_C19: - 0.5 u_0_2 - x_2_2 + x_2_3 = 0\n",
              "\n",
              "_C20: - 0.5 u_1_2 - x_3_2 + x_3_3 = 0\n",
              "\n",
              "_C21: - 0.125 u_0_3 - x_0_3 + x_0_4 - 0.5 x_2_3 = 0\n",
              "\n",
              "_C22: - 0.125 u_1_3 - x_1_3 + x_1_4 - 0.5 x_3_3 = 0\n",
              "\n",
              "_C23: - 0.5 u_0_3 - x_2_3 + x_2_4 = 0\n",
              "\n",
              "_C24: - 0.5 u_1_3 - x_3_3 + x_3_4 = 0\n",
              "\n",
              "_C25: - 0.125 u_0_4 - x_0_4 + x_0_5 - 0.5 x_2_4 = 0\n",
              "\n",
              "_C26: - 0.125 u_1_4 - x_1_4 + x_1_5 - 0.5 x_3_4 = 0\n",
              "\n",
              "_C27: - 0.5 u_0_4 - x_2_4 + x_2_5 = 0\n",
              "\n",
              "_C28: - 0.5 u_1_4 - x_3_4 + x_3_5 = 0\n",
              "\n",
              "_C29: - 0.125 u_0_5 - x_0_5 + x_0_6 - 0.5 x_2_5 = 0\n",
              "\n",
              "_C30: - 0.125 u_1_5 - x_1_5 + x_1_6 - 0.5 x_3_5 = 0\n",
              "\n",
              "_C31: - 0.5 u_0_5 - x_2_5 + x_2_6 = 0\n",
              "\n",
              "_C32: - 0.5 u_1_5 - x_3_5 + x_3_6 = 0\n",
              "\n",
              "_C33: - 0.125 u_0_6 - x_0_6 + x_0_7 - 0.5 x_2_6 = 0\n",
              "\n",
              "_C34: - 0.125 u_1_6 - x_1_6 + x_1_7 - 0.5 x_3_6 = 0\n",
              "\n",
              "_C35: - 0.5 u_0_6 - x_2_6 + x_2_7 = 0\n",
              "\n",
              "_C36: - 0.5 u_1_6 - x_3_6 + x_3_7 = 0\n",
              "\n",
              "_C37: - 0.125 u_0_7 - x_0_7 + x_0_8 - 0.5 x_2_7 = 0\n",
              "\n",
              "_C38: - 0.125 u_1_7 - x_1_7 + x_1_8 - 0.5 x_3_7 = 0\n",
              "\n",
              "_C39: - 0.5 u_0_7 - x_2_7 + x_2_8 = 0\n",
              "\n",
              "_C40: - 0.5 u_1_7 - x_3_7 + x_3_8 = 0\n",
              "\n",
              "_C41: - 0.125 u_0_8 - x_0_8 + x_0_9 - 0.5 x_2_8 = 0\n",
              "\n",
              "_C42: - 0.125 u_1_8 - x_1_8 + x_1_9 - 0.5 x_3_8 = 0\n",
              "\n",
              "_C43: - 0.5 u_0_8 - x_2_8 + x_2_9 = 0\n",
              "\n",
              "_C44: - 0.5 u_1_8 - x_3_8 + x_3_9 = 0\n",
              "\n",
              "_C45: - 0.125 u_0_9 + x_0_10 - x_0_9 - 0.5 x_2_9 = 0\n",
              "\n",
              "_C46: - 0.125 u_1_9 + x_1_10 - x_1_9 - 0.5 x_3_9 = 0\n",
              "\n",
              "_C47: - 0.5 u_0_9 + x_2_10 - x_2_9 = 0\n",
              "\n",
              "_C48: - 0.5 u_1_9 + x_3_10 - x_3_9 = 0\n",
              "\n",
              "_C49: - 0.125 u_0_10 - x_0_10 + x_0_11 - 0.5 x_2_10 = 0\n",
              "\n",
              "_C50: - 0.125 u_1_10 - x_1_10 + x_1_11 - 0.5 x_3_10 = 0\n",
              "\n",
              "_C51: - 0.5 u_0_10 - x_2_10 + x_2_11 = 0\n",
              "\n",
              "_C52: - 0.5 u_1_10 - x_3_10 + x_3_11 = 0\n",
              "\n",
              "VARIABLES\n",
              "u_0_0 free Continuous\n",
              "u_0_1 free Continuous\n",
              "u_0_10 free Continuous\n",
              "u_0_2 free Continuous\n",
              "u_0_3 free Continuous\n",
              "u_0_4 free Continuous\n",
              "u_0_5 free Continuous\n",
              "u_0_6 free Continuous\n",
              "u_0_7 free Continuous\n",
              "u_0_8 free Continuous\n",
              "u_0_9 free Continuous\n",
              "u_1_0 free Continuous\n",
              "u_1_1 free Continuous\n",
              "u_1_10 free Continuous\n",
              "u_1_2 free Continuous\n",
              "u_1_3 free Continuous\n",
              "u_1_4 free Continuous\n",
              "u_1_5 free Continuous\n",
              "u_1_6 free Continuous\n",
              "u_1_7 free Continuous\n",
              "u_1_8 free Continuous\n",
              "u_1_9 free Continuous\n",
              "x_0_0 free Continuous\n",
              "x_0_1 free Continuous\n",
              "x_0_10 free Continuous\n",
              "x_0_11 free Continuous\n",
              "x_0_2 free Continuous\n",
              "x_0_3 free Continuous\n",
              "x_0_4 free Continuous\n",
              "x_0_5 free Continuous\n",
              "x_0_6 free Continuous\n",
              "x_0_7 free Continuous\n",
              "x_0_8 free Continuous\n",
              "x_0_9 free Continuous\n",
              "x_1_0 free Continuous\n",
              "x_1_1 free Continuous\n",
              "x_1_10 free Continuous\n",
              "x_1_11 free Continuous\n",
              "x_1_2 free Continuous\n",
              "x_1_3 free Continuous\n",
              "x_1_4 free Continuous\n",
              "x_1_5 free Continuous\n",
              "x_1_6 free Continuous\n",
              "x_1_7 free Continuous\n",
              "x_1_8 free Continuous\n",
              "x_1_9 free Continuous\n",
              "x_2_0 free Continuous\n",
              "x_2_1 free Continuous\n",
              "x_2_10 free Continuous\n",
              "x_2_11 free Continuous\n",
              "x_2_2 free Continuous\n",
              "x_2_3 free Continuous\n",
              "x_2_4 free Continuous\n",
              "x_2_5 free Continuous\n",
              "x_2_6 free Continuous\n",
              "x_2_7 free Continuous\n",
              "x_2_8 free Continuous\n",
              "x_2_9 free Continuous\n",
              "x_3_0 free Continuous\n",
              "x_3_1 free Continuous\n",
              "x_3_10 free Continuous\n",
              "x_3_11 free Continuous\n",
              "x_3_2 free Continuous\n",
              "x_3_3 free Continuous\n",
              "x_3_4 free Continuous\n",
              "x_3_5 free Continuous\n",
              "x_3_6 free Continuous\n",
              "x_3_7 free Continuous\n",
              "x_3_8 free Continuous\n",
              "x_3_9 free Continuous"
            ]
          },
          "metadata": {},
          "execution_count": 60
        }
      ]
    },
    {
      "cell_type": "markdown",
      "source": [
        "Add the limits"
      ],
      "metadata": {
        "id": "h0qiBOCsuSe_"
      }
    },
    {
      "cell_type": "code",
      "source": [
        "for k in range(1,num_steps-1):\n",
        "  for n in range(num_states):\n",
        "    prob += (x[n][k] >= x_lower_limit[n])\n",
        "    prob += (x[n][k] <= x_upper_limit[n])\n",
        "  for p in range(num_inputs):\n",
        "    prob += (u[p][k] >= u_lower_limit[p])\n",
        "    prob += (u[p][k] <= u_upper_limit[p])\n",
        "\n",
        "prob"
      ],
      "metadata": {
        "id": "tb0XSnHVuRWm",
        "outputId": "f1cb4c77-01be-4839-8b1d-8dcb3e00b82f",
        "colab": {
          "base_uri": "https://localhost:8080/"
        }
      },
      "execution_count": 61,
      "outputs": [
        {
          "output_type": "execute_result",
          "data": {
            "text/plain": [
              "path:\n",
              "MINIMIZE\n",
              "None\n",
              "SUBJECT TO\n",
              "_C1: x_0_0 = 1\n",
              "\n",
              "_C2: x_0_11 = 4\n",
              "\n",
              "_C3: x_1_0 = 1\n",
              "\n",
              "_C4: x_1_11 = 10\n",
              "\n",
              "_C5: x_2_0 = 2\n",
              "\n",
              "_C6: x_2_11 = 1\n",
              "\n",
              "_C7: x_3_0 = 0\n",
              "\n",
              "_C8: x_3_11 = 1\n",
              "\n",
              "_C9: - 0.125 u_0_0 - x_0_0 + x_0_1 - 0.5 x_2_0 = 0\n",
              "\n",
              "_C10: - 0.125 u_1_0 - x_1_0 + x_1_1 - 0.5 x_3_0 = 0\n",
              "\n",
              "_C11: - 0.5 u_0_0 - x_2_0 + x_2_1 = 0\n",
              "\n",
              "_C12: - 0.5 u_1_0 - x_3_0 + x_3_1 = 0\n",
              "\n",
              "_C13: - 0.125 u_0_1 - x_0_1 + x_0_2 - 0.5 x_2_1 = 0\n",
              "\n",
              "_C14: - 0.125 u_1_1 - x_1_1 + x_1_2 - 0.5 x_3_1 = 0\n",
              "\n",
              "_C15: - 0.5 u_0_1 - x_2_1 + x_2_2 = 0\n",
              "\n",
              "_C16: - 0.5 u_1_1 - x_3_1 + x_3_2 = 0\n",
              "\n",
              "_C17: - 0.125 u_0_2 - x_0_2 + x_0_3 - 0.5 x_2_2 = 0\n",
              "\n",
              "_C18: - 0.125 u_1_2 - x_1_2 + x_1_3 - 0.5 x_3_2 = 0\n",
              "\n",
              "_C19: - 0.5 u_0_2 - x_2_2 + x_2_3 = 0\n",
              "\n",
              "_C20: - 0.5 u_1_2 - x_3_2 + x_3_3 = 0\n",
              "\n",
              "_C21: - 0.125 u_0_3 - x_0_3 + x_0_4 - 0.5 x_2_3 = 0\n",
              "\n",
              "_C22: - 0.125 u_1_3 - x_1_3 + x_1_4 - 0.5 x_3_3 = 0\n",
              "\n",
              "_C23: - 0.5 u_0_3 - x_2_3 + x_2_4 = 0\n",
              "\n",
              "_C24: - 0.5 u_1_3 - x_3_3 + x_3_4 = 0\n",
              "\n",
              "_C25: - 0.125 u_0_4 - x_0_4 + x_0_5 - 0.5 x_2_4 = 0\n",
              "\n",
              "_C26: - 0.125 u_1_4 - x_1_4 + x_1_5 - 0.5 x_3_4 = 0\n",
              "\n",
              "_C27: - 0.5 u_0_4 - x_2_4 + x_2_5 = 0\n",
              "\n",
              "_C28: - 0.5 u_1_4 - x_3_4 + x_3_5 = 0\n",
              "\n",
              "_C29: - 0.125 u_0_5 - x_0_5 + x_0_6 - 0.5 x_2_5 = 0\n",
              "\n",
              "_C30: - 0.125 u_1_5 - x_1_5 + x_1_6 - 0.5 x_3_5 = 0\n",
              "\n",
              "_C31: - 0.5 u_0_5 - x_2_5 + x_2_6 = 0\n",
              "\n",
              "_C32: - 0.5 u_1_5 - x_3_5 + x_3_6 = 0\n",
              "\n",
              "_C33: - 0.125 u_0_6 - x_0_6 + x_0_7 - 0.5 x_2_6 = 0\n",
              "\n",
              "_C34: - 0.125 u_1_6 - x_1_6 + x_1_7 - 0.5 x_3_6 = 0\n",
              "\n",
              "_C35: - 0.5 u_0_6 - x_2_6 + x_2_7 = 0\n",
              "\n",
              "_C36: - 0.5 u_1_6 - x_3_6 + x_3_7 = 0\n",
              "\n",
              "_C37: - 0.125 u_0_7 - x_0_7 + x_0_8 - 0.5 x_2_7 = 0\n",
              "\n",
              "_C38: - 0.125 u_1_7 - x_1_7 + x_1_8 - 0.5 x_3_7 = 0\n",
              "\n",
              "_C39: - 0.5 u_0_7 - x_2_7 + x_2_8 = 0\n",
              "\n",
              "_C40: - 0.5 u_1_7 - x_3_7 + x_3_8 = 0\n",
              "\n",
              "_C41: - 0.125 u_0_8 - x_0_8 + x_0_9 - 0.5 x_2_8 = 0\n",
              "\n",
              "_C42: - 0.125 u_1_8 - x_1_8 + x_1_9 - 0.5 x_3_8 = 0\n",
              "\n",
              "_C43: - 0.5 u_0_8 - x_2_8 + x_2_9 = 0\n",
              "\n",
              "_C44: - 0.5 u_1_8 - x_3_8 + x_3_9 = 0\n",
              "\n",
              "_C45: - 0.125 u_0_9 + x_0_10 - x_0_9 - 0.5 x_2_9 = 0\n",
              "\n",
              "_C46: - 0.125 u_1_9 + x_1_10 - x_1_9 - 0.5 x_3_9 = 0\n",
              "\n",
              "_C47: - 0.5 u_0_9 + x_2_10 - x_2_9 = 0\n",
              "\n",
              "_C48: - 0.5 u_1_9 + x_3_10 - x_3_9 = 0\n",
              "\n",
              "_C49: - 0.125 u_0_10 - x_0_10 + x_0_11 - 0.5 x_2_10 = 0\n",
              "\n",
              "_C50: - 0.125 u_1_10 - x_1_10 + x_1_11 - 0.5 x_3_10 = 0\n",
              "\n",
              "_C51: - 0.5 u_0_10 - x_2_10 + x_2_11 = 0\n",
              "\n",
              "_C52: - 0.5 u_1_10 - x_3_10 + x_3_11 = 0\n",
              "\n",
              "_C53: x_0_1 >= -10\n",
              "\n",
              "_C54: x_0_1 <= 10\n",
              "\n",
              "_C55: x_1_1 >= -10\n",
              "\n",
              "_C56: x_1_1 <= 10\n",
              "\n",
              "_C57: x_2_1 >= -3\n",
              "\n",
              "_C58: x_2_1 <= 3\n",
              "\n",
              "_C59: x_3_1 >= -3\n",
              "\n",
              "_C60: x_3_1 <= 3\n",
              "\n",
              "_C61: u_0_1 >= -5\n",
              "\n",
              "_C62: u_0_1 <= 5\n",
              "\n",
              "_C63: u_1_1 >= -5\n",
              "\n",
              "_C64: u_1_1 <= 5\n",
              "\n",
              "_C65: x_0_2 >= -10\n",
              "\n",
              "_C66: x_0_2 <= 10\n",
              "\n",
              "_C67: x_1_2 >= -10\n",
              "\n",
              "_C68: x_1_2 <= 10\n",
              "\n",
              "_C69: x_2_2 >= -3\n",
              "\n",
              "_C70: x_2_2 <= 3\n",
              "\n",
              "_C71: x_3_2 >= -3\n",
              "\n",
              "_C72: x_3_2 <= 3\n",
              "\n",
              "_C73: u_0_2 >= -5\n",
              "\n",
              "_C74: u_0_2 <= 5\n",
              "\n",
              "_C75: u_1_2 >= -5\n",
              "\n",
              "_C76: u_1_2 <= 5\n",
              "\n",
              "_C77: x_0_3 >= -10\n",
              "\n",
              "_C78: x_0_3 <= 10\n",
              "\n",
              "_C79: x_1_3 >= -10\n",
              "\n",
              "_C80: x_1_3 <= 10\n",
              "\n",
              "_C81: x_2_3 >= -3\n",
              "\n",
              "_C82: x_2_3 <= 3\n",
              "\n",
              "_C83: x_3_3 >= -3\n",
              "\n",
              "_C84: x_3_3 <= 3\n",
              "\n",
              "_C85: u_0_3 >= -5\n",
              "\n",
              "_C86: u_0_3 <= 5\n",
              "\n",
              "_C87: u_1_3 >= -5\n",
              "\n",
              "_C88: u_1_3 <= 5\n",
              "\n",
              "_C89: x_0_4 >= -10\n",
              "\n",
              "_C90: x_0_4 <= 10\n",
              "\n",
              "_C91: x_1_4 >= -10\n",
              "\n",
              "_C92: x_1_4 <= 10\n",
              "\n",
              "_C93: x_2_4 >= -3\n",
              "\n",
              "_C94: x_2_4 <= 3\n",
              "\n",
              "_C95: x_3_4 >= -3\n",
              "\n",
              "_C96: x_3_4 <= 3\n",
              "\n",
              "_C97: u_0_4 >= -5\n",
              "\n",
              "_C98: u_0_4 <= 5\n",
              "\n",
              "_C99: u_1_4 >= -5\n",
              "\n",
              "_C100: u_1_4 <= 5\n",
              "\n",
              "_C101: x_0_5 >= -10\n",
              "\n",
              "_C102: x_0_5 <= 10\n",
              "\n",
              "_C103: x_1_5 >= -10\n",
              "\n",
              "_C104: x_1_5 <= 10\n",
              "\n",
              "_C105: x_2_5 >= -3\n",
              "\n",
              "_C106: x_2_5 <= 3\n",
              "\n",
              "_C107: x_3_5 >= -3\n",
              "\n",
              "_C108: x_3_5 <= 3\n",
              "\n",
              "_C109: u_0_5 >= -5\n",
              "\n",
              "_C110: u_0_5 <= 5\n",
              "\n",
              "_C111: u_1_5 >= -5\n",
              "\n",
              "_C112: u_1_5 <= 5\n",
              "\n",
              "_C113: x_0_6 >= -10\n",
              "\n",
              "_C114: x_0_6 <= 10\n",
              "\n",
              "_C115: x_1_6 >= -10\n",
              "\n",
              "_C116: x_1_6 <= 10\n",
              "\n",
              "_C117: x_2_6 >= -3\n",
              "\n",
              "_C118: x_2_6 <= 3\n",
              "\n",
              "_C119: x_3_6 >= -3\n",
              "\n",
              "_C120: x_3_6 <= 3\n",
              "\n",
              "_C121: u_0_6 >= -5\n",
              "\n",
              "_C122: u_0_6 <= 5\n",
              "\n",
              "_C123: u_1_6 >= -5\n",
              "\n",
              "_C124: u_1_6 <= 5\n",
              "\n",
              "_C125: x_0_7 >= -10\n",
              "\n",
              "_C126: x_0_7 <= 10\n",
              "\n",
              "_C127: x_1_7 >= -10\n",
              "\n",
              "_C128: x_1_7 <= 10\n",
              "\n",
              "_C129: x_2_7 >= -3\n",
              "\n",
              "_C130: x_2_7 <= 3\n",
              "\n",
              "_C131: x_3_7 >= -3\n",
              "\n",
              "_C132: x_3_7 <= 3\n",
              "\n",
              "_C133: u_0_7 >= -5\n",
              "\n",
              "_C134: u_0_7 <= 5\n",
              "\n",
              "_C135: u_1_7 >= -5\n",
              "\n",
              "_C136: u_1_7 <= 5\n",
              "\n",
              "_C137: x_0_8 >= -10\n",
              "\n",
              "_C138: x_0_8 <= 10\n",
              "\n",
              "_C139: x_1_8 >= -10\n",
              "\n",
              "_C140: x_1_8 <= 10\n",
              "\n",
              "_C141: x_2_8 >= -3\n",
              "\n",
              "_C142: x_2_8 <= 3\n",
              "\n",
              "_C143: x_3_8 >= -3\n",
              "\n",
              "_C144: x_3_8 <= 3\n",
              "\n",
              "_C145: u_0_8 >= -5\n",
              "\n",
              "_C146: u_0_8 <= 5\n",
              "\n",
              "_C147: u_1_8 >= -5\n",
              "\n",
              "_C148: u_1_8 <= 5\n",
              "\n",
              "_C149: x_0_9 >= -10\n",
              "\n",
              "_C150: x_0_9 <= 10\n",
              "\n",
              "_C151: x_1_9 >= -10\n",
              "\n",
              "_C152: x_1_9 <= 10\n",
              "\n",
              "_C153: x_2_9 >= -3\n",
              "\n",
              "_C154: x_2_9 <= 3\n",
              "\n",
              "_C155: x_3_9 >= -3\n",
              "\n",
              "_C156: x_3_9 <= 3\n",
              "\n",
              "_C157: u_0_9 >= -5\n",
              "\n",
              "_C158: u_0_9 <= 5\n",
              "\n",
              "_C159: u_1_9 >= -5\n",
              "\n",
              "_C160: u_1_9 <= 5\n",
              "\n",
              "_C161: x_0_10 >= -10\n",
              "\n",
              "_C162: x_0_10 <= 10\n",
              "\n",
              "_C163: x_1_10 >= -10\n",
              "\n",
              "_C164: x_1_10 <= 10\n",
              "\n",
              "_C165: x_2_10 >= -3\n",
              "\n",
              "_C166: x_2_10 <= 3\n",
              "\n",
              "_C167: x_3_10 >= -3\n",
              "\n",
              "_C168: x_3_10 <= 3\n",
              "\n",
              "_C169: u_0_10 >= -5\n",
              "\n",
              "_C170: u_0_10 <= 5\n",
              "\n",
              "_C171: u_1_10 >= -5\n",
              "\n",
              "_C172: u_1_10 <= 5\n",
              "\n",
              "VARIABLES\n",
              "u_0_0 free Continuous\n",
              "u_0_1 free Continuous\n",
              "u_0_10 free Continuous\n",
              "u_0_2 free Continuous\n",
              "u_0_3 free Continuous\n",
              "u_0_4 free Continuous\n",
              "u_0_5 free Continuous\n",
              "u_0_6 free Continuous\n",
              "u_0_7 free Continuous\n",
              "u_0_8 free Continuous\n",
              "u_0_9 free Continuous\n",
              "u_1_0 free Continuous\n",
              "u_1_1 free Continuous\n",
              "u_1_10 free Continuous\n",
              "u_1_2 free Continuous\n",
              "u_1_3 free Continuous\n",
              "u_1_4 free Continuous\n",
              "u_1_5 free Continuous\n",
              "u_1_6 free Continuous\n",
              "u_1_7 free Continuous\n",
              "u_1_8 free Continuous\n",
              "u_1_9 free Continuous\n",
              "x_0_0 free Continuous\n",
              "x_0_1 free Continuous\n",
              "x_0_10 free Continuous\n",
              "x_0_11 free Continuous\n",
              "x_0_2 free Continuous\n",
              "x_0_3 free Continuous\n",
              "x_0_4 free Continuous\n",
              "x_0_5 free Continuous\n",
              "x_0_6 free Continuous\n",
              "x_0_7 free Continuous\n",
              "x_0_8 free Continuous\n",
              "x_0_9 free Continuous\n",
              "x_1_0 free Continuous\n",
              "x_1_1 free Continuous\n",
              "x_1_10 free Continuous\n",
              "x_1_11 free Continuous\n",
              "x_1_2 free Continuous\n",
              "x_1_3 free Continuous\n",
              "x_1_4 free Continuous\n",
              "x_1_5 free Continuous\n",
              "x_1_6 free Continuous\n",
              "x_1_7 free Continuous\n",
              "x_1_8 free Continuous\n",
              "x_1_9 free Continuous\n",
              "x_2_0 free Continuous\n",
              "x_2_1 free Continuous\n",
              "x_2_10 free Continuous\n",
              "x_2_11 free Continuous\n",
              "x_2_2 free Continuous\n",
              "x_2_3 free Continuous\n",
              "x_2_4 free Continuous\n",
              "x_2_5 free Continuous\n",
              "x_2_6 free Continuous\n",
              "x_2_7 free Continuous\n",
              "x_2_8 free Continuous\n",
              "x_2_9 free Continuous\n",
              "x_3_0 free Continuous\n",
              "x_3_1 free Continuous\n",
              "x_3_10 free Continuous\n",
              "x_3_11 free Continuous\n",
              "x_3_2 free Continuous\n",
              "x_3_3 free Continuous\n",
              "x_3_4 free Continuous\n",
              "x_3_5 free Continuous\n",
              "x_3_6 free Continuous\n",
              "x_3_7 free Continuous\n",
              "x_3_8 free Continuous\n",
              "x_3_9 free Continuous"
            ]
          },
          "metadata": {},
          "execution_count": 61
        }
      ]
    },
    {
      "cell_type": "markdown",
      "source": [
        "Although we haven't set an obective, we can just ask for any old solution to the constraints at this point."
      ],
      "metadata": {
        "id": "_Y-lej8uyPQ_"
      }
    },
    {
      "cell_type": "code",
      "execution_count": 62,
      "metadata": {
        "id": "VPKxnnfpmttV",
        "outputId": "e5a3d92c-f339-4903-a1dd-014e761fae5f",
        "colab": {
          "base_uri": "https://localhost:8080/"
        }
      },
      "outputs": [
        {
          "output_type": "stream",
          "name": "stdout",
          "text": [
            "Status: Optimal\n"
          ]
        }
      ],
      "source": [
        "prob.solve()\n",
        "print(\"Status:\", LpStatus[prob.status])"
      ]
    },
    {
      "cell_type": "markdown",
      "source": [
        "We can't expect a very good path yet, but it should at least connect start to goal."
      ],
      "metadata": {
        "id": "cvkmXYPnyqlX"
      }
    },
    {
      "cell_type": "code",
      "execution_count": 63,
      "metadata": {
        "id": "lhxJpDvnmttV",
        "outputId": "91828f67-14b5-402a-9c59-de305f2b3806",
        "colab": {
          "base_uri": "https://localhost:8080/",
          "height": 265
        }
      },
      "outputs": [
        {
          "output_type": "display_data",
          "data": {
            "text/plain": [
              "<Figure size 432x288 with 1 Axes>"
            ],
            "image/png": "[encoded data removed]"
          },
          "metadata": {
            "needs_background": "light"
          }
        }
      ],
      "source": [
        "def plot_traj(x):\n",
        "  plt.plot([x[0][k].varValue for k in range(num_steps)],[x[1][k].varValue for k in range(num_steps)])\n",
        "\n",
        "plot_state(x_goal,'g')\n",
        "plot_state(x_start, 'b')\n",
        "\n",
        "for ob in obstacles:\n",
        "  plot_obst_box(ob)\n",
        "\n",
        "plot_traj(x)\n",
        "\n",
        "plt.axis('equal')\n",
        "plt.show()"
      ]
    },
    {
      "cell_type": "code",
      "source": [
        "um = LpVariable.dicts(\"um\",(range(num_inputs),range(num_steps)))\n",
        "for k in range(num_steps):\n",
        "  for p in range(num_inputs):\n",
        "    prob += (um[p][k]>=u[p][k])\n",
        "    prob += (um[p][k]>=-u[p][k])\n",
        "\n",
        "prob.setObjective(sum([um[p][k] for k in range(num_steps) for p in range(num_inputs)]))\n",
        "\n",
        "prob.solve()\n",
        "\n",
        "plot_state(x_goal,'g')\n",
        "plot_state(x_start, 'b')\n",
        "\n",
        "for ob in obstacles:\n",
        "  plot_obst_box(ob)\n",
        "\n",
        "plot_traj(x)\n",
        "\n",
        "plt.axis('equal')\n",
        "plt.show()"
      ],
      "metadata": {
        "id": "LgvCmB70RAdT",
        "outputId": "ec22db06-5c81-4900-8760-3fa9e9c8b917",
        "colab": {
          "base_uri": "https://localhost:8080/",
          "height": 381
        }
      },
      "execution_count": 66,
      "outputs": [
        {
          "output_type": "error",
          "ename": "PulpSolverError",
          "evalue": "ignored",
          "traceback": [
            "\u001b[0;31m---------------------------------------------------------------------------\u001b[0m",
            "\u001b[0;31mPulpSolverError\u001b[0m                           Traceback (most recent call last)",
            "\u001b[0;32m<ipython-input-66-cd5f4df9e77d>\u001b[0m in \u001b[0;36m<module>\u001b[0;34m\u001b[0m\n\u001b[1;32m      7\u001b[0m \u001b[0mprob\u001b[0m\u001b[0;34m.\u001b[0m\u001b[0msetObjective\u001b[0m\u001b[0;34m(\u001b[0m\u001b[0msum\u001b[0m\u001b[0;34m(\u001b[0m\u001b[0;34m[\u001b[0m\u001b[0mum\u001b[0m\u001b[0;34m[\u001b[0m\u001b[0mp\u001b[0m\u001b[0;34m]\u001b[0m\u001b[0;34m[\u001b[0m\u001b[0mk\u001b[0m\u001b[0;34m]\u001b[0m \u001b[0;32mfor\u001b[0m \u001b[0mk\u001b[0m \u001b[0;32min\u001b[0m \u001b[0mrange\u001b[0m\u001b[0;34m(\u001b[0m\u001b[0mnum_steps\u001b[0m\u001b[0;34m)\u001b[0m \u001b[0;32mfor\u001b[0m \u001b[0mp\u001b[0m \u001b[0;32min\u001b[0m \u001b[0mrange\u001b[0m\u001b[0;34m(\u001b[0m\u001b[0mnum_inputs\u001b[0m\u001b[0;34m)\u001b[0m\u001b[0;34m]\u001b[0m\u001b[0;34m)\u001b[0m\u001b[0;34m)\u001b[0m\u001b[0;34m\u001b[0m\u001b[0;34m\u001b[0m\u001b[0m\n\u001b[1;32m      8\u001b[0m \u001b[0;34m\u001b[0m\u001b[0m\n\u001b[0;32m----> 9\u001b[0;31m \u001b[0mprob\u001b[0m\u001b[0;34m.\u001b[0m\u001b[0mresolve\u001b[0m\u001b[0;34m(\u001b[0m\u001b[0;34m)\u001b[0m\u001b[0;34m\u001b[0m\u001b[0;34m\u001b[0m\u001b[0m\n\u001b[0m\u001b[1;32m     10\u001b[0m \u001b[0;34m\u001b[0m\u001b[0m\n\u001b[1;32m     11\u001b[0m \u001b[0mplot_state\u001b[0m\u001b[0;34m(\u001b[0m\u001b[0mx_goal\u001b[0m\u001b[0;34m,\u001b[0m\u001b[0;34m'g'\u001b[0m\u001b[0;34m)\u001b[0m\u001b[0;34m\u001b[0m\u001b[0;34m\u001b[0m\u001b[0m\n",
            "\u001b[0;32m/usr/local/lib/python3.8/dist-packages/pulp/pulp.py\u001b[0m in \u001b[0;36mresolve\u001b[0;34m(self, solver, **kwargs)\u001b[0m\n\u001b[1;32m   1982\u001b[0m             \u001b[0;32mreturn\u001b[0m \u001b[0mself\u001b[0m\u001b[0;34m.\u001b[0m\u001b[0msolver\u001b[0m\u001b[0;34m.\u001b[0m\u001b[0mactualResolve\u001b[0m\u001b[0;34m(\u001b[0m\u001b[0mself\u001b[0m\u001b[0;34m,\u001b[0m \u001b[0;34m**\u001b[0m\u001b[0mkwargs\u001b[0m\u001b[0;34m)\u001b[0m\u001b[0;34m\u001b[0m\u001b[0;34m\u001b[0m\u001b[0m\n\u001b[1;32m   1983\u001b[0m         \u001b[0;32melse\u001b[0m\u001b[0;34m:\u001b[0m\u001b[0;34m\u001b[0m\u001b[0;34m\u001b[0m\u001b[0m\n\u001b[0;32m-> 1984\u001b[0;31m             \u001b[0;32mreturn\u001b[0m \u001b[0mself\u001b[0m\u001b[0;34m.\u001b[0m\u001b[0msolve\u001b[0m\u001b[0;34m(\u001b[0m\u001b[0msolver\u001b[0m\u001b[0;34m=\u001b[0m\u001b[0msolver\u001b[0m\u001b[0;34m,\u001b[0m \u001b[0;34m**\u001b[0m\u001b[0mkwargs\u001b[0m\u001b[0;34m)\u001b[0m\u001b[0;34m\u001b[0m\u001b[0;34m\u001b[0m\u001b[0m\n\u001b[0m\u001b[1;32m   1985\u001b[0m \u001b[0;34m\u001b[0m\u001b[0m\n\u001b[1;32m   1986\u001b[0m     \u001b[0;32mdef\u001b[0m \u001b[0msetSolver\u001b[0m\u001b[0;34m(\u001b[0m\u001b[0mself\u001b[0m\u001b[0;34m,\u001b[0m \u001b[0msolver\u001b[0m\u001b[0;34m=\u001b[0m\u001b[0mLpSolverDefault\u001b[0m\u001b[0;34m)\u001b[0m\u001b[0;34m:\u001b[0m\u001b[0;34m\u001b[0m\u001b[0;34m\u001b[0m\u001b[0m\n",
            "\u001b[0;32m/usr/local/lib/python3.8/dist-packages/pulp/pulp.py\u001b[0m in \u001b[0;36msolve\u001b[0;34m(self, solver, **kwargs)\u001b[0m\n\u001b[1;32m   1911\u001b[0m         \u001b[0;31m# time it\u001b[0m\u001b[0;34m\u001b[0m\u001b[0;34m\u001b[0m\u001b[0;34m\u001b[0m\u001b[0m\n\u001b[1;32m   1912\u001b[0m         \u001b[0mself\u001b[0m\u001b[0;34m.\u001b[0m\u001b[0mstartClock\u001b[0m\u001b[0;34m(\u001b[0m\u001b[0;34m)\u001b[0m\u001b[0;34m\u001b[0m\u001b[0;34m\u001b[0m\u001b[0m\n\u001b[0;32m-> 1913\u001b[0;31m         \u001b[0mstatus\u001b[0m \u001b[0;34m=\u001b[0m \u001b[0msolver\u001b[0m\u001b[0;34m.\u001b[0m\u001b[0mactualSolve\u001b[0m\u001b[0;34m(\u001b[0m\u001b[0mself\u001b[0m\u001b[0;34m,\u001b[0m \u001b[0;34m**\u001b[0m\u001b[0mkwargs\u001b[0m\u001b[0;34m)\u001b[0m\u001b[0;34m\u001b[0m\u001b[0;34m\u001b[0m\u001b[0m\n\u001b[0m\u001b[1;32m   1914\u001b[0m         \u001b[0mself\u001b[0m\u001b[0;34m.\u001b[0m\u001b[0mstopClock\u001b[0m\u001b[0;34m(\u001b[0m\u001b[0;34m)\u001b[0m\u001b[0;34m\u001b[0m\u001b[0;34m\u001b[0m\u001b[0m\n\u001b[1;32m   1915\u001b[0m         \u001b[0mself\u001b[0m\u001b[0;34m.\u001b[0m\u001b[0mrestoreObjective\u001b[0m\u001b[0;34m(\u001b[0m\u001b[0mwasNone\u001b[0m\u001b[0;34m,\u001b[0m \u001b[0mdummyVar\u001b[0m\u001b[0;34m)\u001b[0m\u001b[0;34m\u001b[0m\u001b[0;34m\u001b[0m\u001b[0m\n",
            "\u001b[0;32m/usr/local/lib/python3.8/dist-packages/pulp/apis/coin_api.py\u001b[0m in \u001b[0;36mactualSolve\u001b[0;34m(self, lp, **kwargs)\u001b[0m\n\u001b[1;32m    135\u001b[0m     \u001b[0;32mdef\u001b[0m \u001b[0mactualSolve\u001b[0m\u001b[0;34m(\u001b[0m\u001b[0mself\u001b[0m\u001b[0;34m,\u001b[0m \u001b[0mlp\u001b[0m\u001b[0;34m,\u001b[0m \u001b[0;34m**\u001b[0m\u001b[0mkwargs\u001b[0m\u001b[0;34m)\u001b[0m\u001b[0;34m:\u001b[0m\u001b[0;34m\u001b[0m\u001b[0;34m\u001b[0m\u001b[0m\n\u001b[1;32m    136\u001b[0m         \u001b[0;34m\"\"\"Solve a well formulated lp problem\"\"\"\u001b[0m\u001b[0;34m\u001b[0m\u001b[0;34m\u001b[0m\u001b[0m\n\u001b[0;32m--> 137\u001b[0;31m         \u001b[0;32mreturn\u001b[0m \u001b[0mself\u001b[0m\u001b[0;34m.\u001b[0m\u001b[0msolve_CBC\u001b[0m\u001b[0;34m(\u001b[0m\u001b[0mlp\u001b[0m\u001b[0;34m,\u001b[0m \u001b[0;34m**\u001b[0m\u001b[0mkwargs\u001b[0m\u001b[0;34m)\u001b[0m\u001b[0;34m\u001b[0m\u001b[0;34m\u001b[0m\u001b[0m\n\u001b[0m\u001b[1;32m    138\u001b[0m \u001b[0;34m\u001b[0m\u001b[0m\n\u001b[1;32m    139\u001b[0m     \u001b[0;32mdef\u001b[0m \u001b[0mavailable\u001b[0m\u001b[0;34m(\u001b[0m\u001b[0mself\u001b[0m\u001b[0;34m)\u001b[0m\u001b[0;34m:\u001b[0m\u001b[0;34m\u001b[0m\u001b[0;34m\u001b[0m\u001b[0m\n",
            "\u001b[0;32m/usr/local/lib/python3.8/dist-packages/pulp/apis/coin_api.py\u001b[0m in \u001b[0;36msolve_CBC\u001b[0;34m(self, lp, use_mps)\u001b[0m\n\u001b[1;32m    211\u001b[0m             \u001b[0mpipe\u001b[0m\u001b[0;34m.\u001b[0m\u001b[0mclose\u001b[0m\u001b[0;34m(\u001b[0m\u001b[0;34m)\u001b[0m\u001b[0;34m\u001b[0m\u001b[0;34m\u001b[0m\u001b[0m\n\u001b[1;32m    212\u001b[0m         \u001b[0;32mif\u001b[0m \u001b[0;32mnot\u001b[0m \u001b[0mos\u001b[0m\u001b[0;34m.\u001b[0m\u001b[0mpath\u001b[0m\u001b[0;34m.\u001b[0m\u001b[0mexists\u001b[0m\u001b[0;34m(\u001b[0m\u001b[0mtmpSol\u001b[0m\u001b[0;34m)\u001b[0m\u001b[0;34m:\u001b[0m\u001b[0;34m\u001b[0m\u001b[0;34m\u001b[0m\u001b[0m\n\u001b[0;32m--> 213\u001b[0;31m             \u001b[0;32mraise\u001b[0m \u001b[0mPulpSolverError\u001b[0m\u001b[0;34m(\u001b[0m\u001b[0;34m\"Pulp: Error while executing \"\u001b[0m \u001b[0;34m+\u001b[0m \u001b[0mself\u001b[0m\u001b[0;34m.\u001b[0m\u001b[0mpath\u001b[0m\u001b[0;34m)\u001b[0m\u001b[0;34m\u001b[0m\u001b[0;34m\u001b[0m\u001b[0m\n\u001b[0m\u001b[1;32m    214\u001b[0m         (\n\u001b[1;32m    215\u001b[0m             \u001b[0mstatus\u001b[0m\u001b[0;34m,\u001b[0m\u001b[0;34m\u001b[0m\u001b[0;34m\u001b[0m\u001b[0m\n",
            "\u001b[0;31mPulpSolverError\u001b[0m: Pulp: Error while executing /usr/local/lib/python3.8/dist-packages/pulp/solverdir/cbc/linux/64/cbc"
          ]
        }
      ]
    }
  ],
  "metadata": {
    "kernelspec": {
      "display_name": "Python 3",
      "language": "python",
      "name": "python3"
    },
    "language_info": {
      "codemirror_mode": {
        "name": "ipython",
        "version": 3
      },
      "file_extension": ".py",
      "mimetype": "text/x-python",
      "name": "python",
      "nbconvert_exporter": "python",
      "pygments_lexer": "ipython3",
      "version": "3.5.2"
    },
    "colab": {
      "provenance": []
    }
  },
  "nbformat": 4,
  "nbformat_minor": 0
}