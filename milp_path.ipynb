{
  "cells": [
    {
      "cell_type": "markdown",
      "metadata": {
        "id": "BL50JkgtmttP"
      },
      "source": [
        "# Trajectory Optimization using MILP\n",
        "\n",
        "<a target=\"_blank\" href=\"https://colab.research.google.com/github/arthurrichards77/smply/blob/master/milp_path.ipynb\">\n",
        "  <img src=\"https://colab.research.google.com/assets/colab-badge.svg\" alt=\"Open In Colab\"/>\n",
        "</a>\n",
        "\n",
        "First we'll need some libraries including the [PuLP linear programming library](https://coin-or.github.io/pulp/)."
      ]
    },
    {
      "cell_type": "code",
      "execution_count": 187,
      "metadata": {
        "id": "o3vV4PdSmttQ",
        "outputId": "c80f4d37-6666-4b4a-dbb7-15812400aa49",
        "colab": {
          "base_uri": "https://localhost:8080/"
        }
      },
      "outputs": [
        {
          "output_type": "stream",
          "name": "stdout",
          "text": [
            "Looking in indexes: https://pypi.org/simple, https://us-python.pkg.dev/colab-wheels/public/simple/\n",
            "Requirement already satisfied: pulp in /usr/local/lib/python3.8/dist-packages (2.7.0)\n"
          ]
        }
      ],
      "source": [
        "import matplotlib.pyplot as plt\n",
        "%matplotlib inline\n",
        "import numpy as np\n",
        "import random\n",
        "!pip install pulp\n",
        "from pulp import *"
      ]
    },
    {
      "cell_type": "markdown",
      "metadata": {
        "id": "JvcQLdxcmttR"
      },
      "source": [
        "## Problem definition\n",
        "\n",
        "Start by defining some obstacles in the form of boxes, [left,bottom,right,top], and plot them."
      ]
    },
    {
      "cell_type": "code",
      "source": [
        "obstacles = np.array([(0,2,4,4),(2,5,7,9)])\n",
        "\n",
        "def plot_obst_box(b):\n",
        "  plt.plot(b[[0,0,2,2,0]],b[[1,3,3,1,1]],'r')\n",
        "\n",
        "for ob in obstacles:\n",
        "  plot_obst_box(ob)\n",
        "\n",
        "plt.axis('equal')\n",
        "plt.show()"
      ],
      "metadata": {
        "id": "GOAgycponG2P",
        "outputId": "095d6725-8ec1-4af3-de52-63e79218e64e",
        "colab": {
          "base_uri": "https://localhost:8080/",
          "height": 265
        }
      },
      "execution_count": 188,
      "outputs": [
        {
          "output_type": "display_data",
          "data": {
            "text/plain": [
              "<Figure size 432x288 with 1 Axes>"
            ],
            "image/png": "[encoded data removed]"
          },
          "metadata": {
            "needs_background": "light"
          }
        }
      ]
    },
    {
      "cell_type": "markdown",
      "source": [
        "Also define a start and end state - including both position and velocity, hence a 4D vector."
      ],
      "metadata": {
        "id": "Kon4moskoDC-"
      }
    },
    {
      "cell_type": "code",
      "source": [
        "x_start = np.array([3,1,2,0])\n",
        "x_goal = np.array([4,10,1,1])\n",
        "\n",
        "def plot_state(x, col, dt = 0.2):\n",
        "  plt.plot(x[0],x[1],col+'o')\n",
        "  plt.plot([x[0],x[0]+dt*x[2]],[x[1],x[1]+dt*x[3]],col+'-')\n",
        "\n",
        "plot_state(x_goal,'g')\n",
        "plot_state(x_start, 'b')\n",
        "\n",
        "for ob in obstacles:\n",
        "  plot_obst_box(ob)\n",
        "\n",
        "plt.axis('equal')\n",
        "plt.show()"
      ],
      "metadata": {
        "id": "HH1iito7obWs",
        "outputId": "48af7b33-850d-4d50-b2ef-42a28caa58eb",
        "colab": {
          "base_uri": "https://localhost:8080/",
          "height": 265
        }
      },
      "execution_count": 189,
      "outputs": [
        {
          "output_type": "display_data",
          "data": {
            "text/plain": [
              "<Figure size 432x288 with 1 Axes>"
            ],
            "image/png": "[encoded data removed]"
          },
          "metadata": {
            "needs_background": "light"
          }
        }
      ]
    },
    {
      "cell_type": "markdown",
      "source": [
        "Define a dynamics model $A,B$ for a standard model $x(k+1) = Ax(k)+Bu(k)$.  I'll use a simple double integrator (\"SUVAT\") model with acceperation inputs."
      ],
      "metadata": {
        "id": "dP4QRlYU7LNR"
      }
    },
    {
      "cell_type": "code",
      "source": [
        "time_step = 0.5\n",
        "A = np.array([[1., 0., time_step, 0.],[0., 1., 0., time_step],[0., 0., 1., 0.],[0., 0., 0., 1.]])\n",
        "B = np.array([[0.5*time_step*time_step, 0.],[0., 0.5*time_step*time_step],[time_step, 0.], [0., time_step]])\n",
        "print(A)\n",
        "print(B)"
      ],
      "metadata": {
        "colab": {
          "base_uri": "https://localhost:8080/"
        },
        "id": "9AulHPcX7amy",
        "outputId": "90c2e618-03b4-44aa-b55c-dcddfcf9c6f7"
      },
      "execution_count": 190,
      "outputs": [
        {
          "output_type": "stream",
          "name": "stdout",
          "text": [
            "[[1.  0.  0.5 0. ]\n",
            " [0.  1.  0.  0.5]\n",
            " [0.  0.  1.  0. ]\n",
            " [0.  0.  0.  1. ]]\n",
            "[[0.125 0.   ]\n",
            " [0.    0.125]\n",
            " [0.5   0.   ]\n",
            " [0.    0.5  ]]\n"
          ]
        }
      ]
    },
    {
      "cell_type": "markdown",
      "source": [
        "Finally define some limits on state and acceleration input."
      ],
      "metadata": {
        "id": "iasLjA_c8ggd"
      }
    },
    {
      "cell_type": "code",
      "source": [
        "x_lower_limit = np.array([-10., -10, -3., -3.])\n",
        "x_upper_limit = np.array([10., 10, 3., 3.])\n",
        "u_lower_limit = np.array([-5., -5.])\n",
        "u_upper_limit = np.array([5., 5.])"
      ],
      "metadata": {
        "id": "Ls4WZf3l8lRd"
      },
      "execution_count": 191,
      "outputs": []
    },
    {
      "cell_type": "markdown",
      "metadata": {
        "id": "YxWcWc_6mttU"
      },
      "source": [
        "## The MILP optimization\n",
        "\n",
        "Create a new optimization model and include decision variables for the states and inputs over a fixed time horizon."
      ]
    },
    {
      "cell_type": "code",
      "execution_count": 192,
      "metadata": {
        "id": "etkl6P19mttV",
        "colab": {
          "base_uri": "https://localhost:8080/"
        },
        "outputId": "9dfc3ce1-5905-4c4b-c39d-862209743938"
      },
      "outputs": [
        {
          "output_type": "stream",
          "name": "stdout",
          "text": [
            "{0: {0: x_0_0, 1: x_0_1, 2: x_0_2, 3: x_0_3, 4: x_0_4, 5: x_0_5, 6: x_0_6, 7: x_0_7, 8: x_0_8, 9: x_0_9, 10: x_0_10, 11: x_0_11}, 1: {0: x_1_0, 1: x_1_1, 2: x_1_2, 3: x_1_3, 4: x_1_4, 5: x_1_5, 6: x_1_6, 7: x_1_7, 8: x_1_8, 9: x_1_9, 10: x_1_10, 11: x_1_11}, 2: {0: x_2_0, 1: x_2_1, 2: x_2_2, 3: x_2_3, 4: x_2_4, 5: x_2_5, 6: x_2_6, 7: x_2_7, 8: x_2_8, 9: x_2_9, 10: x_2_10, 11: x_2_11}, 3: {0: x_3_0, 1: x_3_1, 2: x_3_2, 3: x_3_3, 4: x_3_4, 5: x_3_5, 6: x_3_6, 7: x_3_7, 8: x_3_8, 9: x_3_9, 10: x_3_10, 11: x_3_11}}\n"
          ]
        }
      ],
      "source": [
        "num_steps = 12\n",
        "num_states = len(x_lower_limit)\n",
        "num_inputs = len(u_lower_limit)\n",
        "\n",
        "prob = LpProblem('path',LpMinimize)\n",
        "x = LpVariable.dicts(\"x\",(range(num_states),range(num_steps)))\n",
        "u = LpVariable.dicts(\"u\",(range(num_inputs),range(num_steps)))\n",
        "print(x)"
      ]
    },
    {
      "cell_type": "markdown",
      "source": [
        "Initial and final value constraints."
      ],
      "metadata": {
        "id": "cDmD-KhnornG"
      }
    },
    {
      "cell_type": "code",
      "source": [
        "for n in range(num_states):\n",
        "  prob += (x[n][0]==x_start[n])\n",
        "  prob += (x[n][num_steps-1]==x_goal[n])\n",
        "\n",
        "prob"
      ],
      "metadata": {
        "id": "mS8KgpwYonVw",
        "colab": {
          "base_uri": "https://localhost:8080/"
        },
        "outputId": "56593fc5-9543-4ac9-bb18-15a2195a6d80"
      },
      "execution_count": 193,
      "outputs": [
        {
          "output_type": "execute_result",
          "data": {
            "text/plain": [
              "path:\n",
              "MINIMIZE\n",
              "None\n",
              "SUBJECT TO\n",
              "_C1: x_0_0 = 3\n",
              "\n",
              "_C2: x_0_11 = 4\n",
              "\n",
              "_C3: x_1_0 = 1\n",
              "\n",
              "_C4: x_1_11 = 10\n",
              "\n",
              "_C5: x_2_0 = 2\n",
              "\n",
              "_C6: x_2_11 = 1\n",
              "\n",
              "_C7: x_3_0 = 0\n",
              "\n",
              "_C8: x_3_11 = 1\n",
              "\n",
              "VARIABLES\n",
              "x_0_0 free Continuous\n",
              "x_0_11 free Continuous\n",
              "x_1_0 free Continuous\n",
              "x_1_11 free Continuous\n",
              "x_2_0 free Continuous\n",
              "x_2_11 free Continuous\n",
              "x_3_0 free Continuous\n",
              "x_3_11 free Continuous"
            ]
          },
          "metadata": {},
          "execution_count": 193
        }
      ]
    },
    {
      "cell_type": "markdown",
      "source": [
        "Now add the dynamics constraints.  This rather clumsily reproduces matrix multiplication in code, but PuLP doesn't handle matrix arithmetic natively, so we have to help."
      ],
      "metadata": {
        "id": "EJnMQ3-ypUIn"
      }
    },
    {
      "cell_type": "code",
      "source": [
        "for k in range(num_steps - 1):\n",
        "  for n in range(num_states):\n",
        "    prob += (x[n][k+1]==sum([A[n,m]*x[m][k] for m in range(num_states)] + [B[n,p]*u[p][k] for p in range(num_inputs)]))\n",
        "\n",
        "prob"
      ],
      "metadata": {
        "id": "TbcNZDMtpJl9",
        "colab": {
          "base_uri": "https://localhost:8080/"
        },
        "outputId": "657d4bf3-0d9c-48d5-a5be-78374adc6d31"
      },
      "execution_count": 194,
      "outputs": [
        {
          "output_type": "execute_result",
          "data": {
            "text/plain": [
              "path:\n",
              "MINIMIZE\n",
              "None\n",
              "SUBJECT TO\n",
              "_C1: x_0_0 = 3\n",
              "\n",
              "_C2: x_0_11 = 4\n",
              "\n",
              "_C3: x_1_0 = 1\n",
              "\n",
              "_C4: x_1_11 = 10\n",
              "\n",
              "_C5: x_2_0 = 2\n",
              "\n",
              "_C6: x_2_11 = 1\n",
              "\n",
              "_C7: x_3_0 = 0\n",
              "\n",
              "_C8: x_3_11 = 1\n",
              "\n",
              "_C9: - 0.125 u_0_0 - x_0_0 + x_0_1 - 0.5 x_2_0 = 0\n",
              "\n",
              "_C10: - 0.125 u_1_0 - x_1_0 + x_1_1 - 0.5 x_3_0 = 0\n",
              "\n",
              "_C11: - 0.5 u_0_0 - x_2_0 + x_2_1 = 0\n",
              "\n",
              "_C12: - 0.5 u_1_0 - x_3_0 + x_3_1 = 0\n",
              "\n",
              "_C13: - 0.125 u_0_1 - x_0_1 + x_0_2 - 0.5 x_2_1 = 0\n",
              "\n",
              "_C14: - 0.125 u_1_1 - x_1_1 + x_1_2 - 0.5 x_3_1 = 0\n",
              "\n",
              "_C15: - 0.5 u_0_1 - x_2_1 + x_2_2 = 0\n",
              "\n",
              "_C16: - 0.5 u_1_1 - x_3_1 + x_3_2 = 0\n",
              "\n",
              "_C17: - 0.125 u_0_2 - x_0_2 + x_0_3 - 0.5 x_2_2 = 0\n",
              "\n",
              "_C18: - 0.125 u_1_2 - x_1_2 + x_1_3 - 0.5 x_3_2 = 0\n",
              "\n",
              "_C19: - 0.5 u_0_2 - x_2_2 + x_2_3 = 0\n",
              "\n",
              "_C20: - 0.5 u_1_2 - x_3_2 + x_3_3 = 0\n",
              "\n",
              "_C21: - 0.125 u_0_3 - x_0_3 + x_0_4 - 0.5 x_2_3 = 0\n",
              "\n",
              "_C22: - 0.125 u_1_3 - x_1_3 + x_1_4 - 0.5 x_3_3 = 0\n",
              "\n",
              "_C23: - 0.5 u_0_3 - x_2_3 + x_2_4 = 0\n",
              "\n",
              "_C24: - 0.5 u_1_3 - x_3_3 + x_3_4 = 0\n",
              "\n",
              "_C25: - 0.125 u_0_4 - x_0_4 + x_0_5 - 0.5 x_2_4 = 0\n",
              "\n",
              "_C26: - 0.125 u_1_4 - x_1_4 + x_1_5 - 0.5 x_3_4 = 0\n",
              "\n",
              "_C27: - 0.5 u_0_4 - x_2_4 + x_2_5 = 0\n",
              "\n",
              "_C28: - 0.5 u_1_4 - x_3_4 + x_3_5 = 0\n",
              "\n",
              "_C29: - 0.125 u_0_5 - x_0_5 + x_0_6 - 0.5 x_2_5 = 0\n",
              "\n",
              "_C30: - 0.125 u_1_5 - x_1_5 + x_1_6 - 0.5 x_3_5 = 0\n",
              "\n",
              "_C31: - 0.5 u_0_5 - x_2_5 + x_2_6 = 0\n",
              "\n",
              "_C32: - 0.5 u_1_5 - x_3_5 + x_3_6 = 0\n",
              "\n",
              "_C33: - 0.125 u_0_6 - x_0_6 + x_0_7 - 0.5 x_2_6 = 0\n",
              "\n",
              "_C34: - 0.125 u_1_6 - x_1_6 + x_1_7 - 0.5 x_3_6 = 0\n",
              "\n",
              "_C35: - 0.5 u_0_6 - x_2_6 + x_2_7 = 0\n",
              "\n",
              "_C36: - 0.5 u_1_6 - x_3_6 + x_3_7 = 0\n",
              "\n",
              "_C37: - 0.125 u_0_7 - x_0_7 + x_0_8 - 0.5 x_2_7 = 0\n",
              "\n",
              "_C38: - 0.125 u_1_7 - x_1_7 + x_1_8 - 0.5 x_3_7 = 0\n",
              "\n",
              "_C39: - 0.5 u_0_7 - x_2_7 + x_2_8 = 0\n",
              "\n",
              "_C40: - 0.5 u_1_7 - x_3_7 + x_3_8 = 0\n",
              "\n",
              "_C41: - 0.125 u_0_8 - x_0_8 + x_0_9 - 0.5 x_2_8 = 0\n",
              "\n",
              "_C42: - 0.125 u_1_8 - x_1_8 + x_1_9 - 0.5 x_3_8 = 0\n",
              "\n",
              "_C43: - 0.5 u_0_8 - x_2_8 + x_2_9 = 0\n",
              "\n",
              "_C44: - 0.5 u_1_8 - x_3_8 + x_3_9 = 0\n",
              "\n",
              "_C45: - 0.125 u_0_9 + x_0_10 - x_0_9 - 0.5 x_2_9 = 0\n",
              "\n",
              "_C46: - 0.125 u_1_9 + x_1_10 - x_1_9 - 0.5 x_3_9 = 0\n",
              "\n",
              "_C47: - 0.5 u_0_9 + x_2_10 - x_2_9 = 0\n",
              "\n",
              "_C48: - 0.5 u_1_9 + x_3_10 - x_3_9 = 0\n",
              "\n",
              "_C49: - 0.125 u_0_10 - x_0_10 + x_0_11 - 0.5 x_2_10 = 0\n",
              "\n",
              "_C50: - 0.125 u_1_10 - x_1_10 + x_1_11 - 0.5 x_3_10 = 0\n",
              "\n",
              "_C51: - 0.5 u_0_10 - x_2_10 + x_2_11 = 0\n",
              "\n",
              "_C52: - 0.5 u_1_10 - x_3_10 + x_3_11 = 0\n",
              "\n",
              "VARIABLES\n",
              "u_0_0 free Continuous\n",
              "u_0_1 free Continuous\n",
              "u_0_10 free Continuous\n",
              "u_0_2 free Continuous\n",
              "u_0_3 free Continuous\n",
              "u_0_4 free Continuous\n",
              "u_0_5 free Continuous\n",
              "u_0_6 free Continuous\n",
              "u_0_7 free Continuous\n",
              "u_0_8 free Continuous\n",
              "u_0_9 free Continuous\n",
              "u_1_0 free Continuous\n",
              "u_1_1 free Continuous\n",
              "u_1_10 free Continuous\n",
              "u_1_2 free Continuous\n",
              "u_1_3 free Continuous\n",
              "u_1_4 free Continuous\n",
              "u_1_5 free Continuous\n",
              "u_1_6 free Continuous\n",
              "u_1_7 free Continuous\n",
              "u_1_8 free Continuous\n",
              "u_1_9 free Continuous\n",
              "x_0_0 free Continuous\n",
              "x_0_1 free Continuous\n",
              "x_0_10 free Continuous\n",
              "x_0_11 free Continuous\n",
              "x_0_2 free Continuous\n",
              "x_0_3 free Continuous\n",
              "x_0_4 free Continuous\n",
              "x_0_5 free Continuous\n",
              "x_0_6 free Continuous\n",
              "x_0_7 free Continuous\n",
              "x_0_8 free Continuous\n",
              "x_0_9 free Continuous\n",
              "x_1_0 free Continuous\n",
              "x_1_1 free Continuous\n",
              "x_1_10 free Continuous\n",
              "x_1_11 free Continuous\n",
              "x_1_2 free Continuous\n",
              "x_1_3 free Continuous\n",
              "x_1_4 free Continuous\n",
              "x_1_5 free Continuous\n",
              "x_1_6 free Continuous\n",
              "x_1_7 free Continuous\n",
              "x_1_8 free Continuous\n",
              "x_1_9 free Continuous\n",
              "x_2_0 free Continuous\n",
              "x_2_1 free Continuous\n",
              "x_2_10 free Continuous\n",
              "x_2_11 free Continuous\n",
              "x_2_2 free Continuous\n",
              "x_2_3 free Continuous\n",
              "x_2_4 free Continuous\n",
              "x_2_5 free Continuous\n",
              "x_2_6 free Continuous\n",
              "x_2_7 free Continuous\n",
              "x_2_8 free Continuous\n",
              "x_2_9 free Continuous\n",
              "x_3_0 free Continuous\n",
              "x_3_1 free Continuous\n",
              "x_3_10 free Continuous\n",
              "x_3_11 free Continuous\n",
              "x_3_2 free Continuous\n",
              "x_3_3 free Continuous\n",
              "x_3_4 free Continuous\n",
              "x_3_5 free Continuous\n",
              "x_3_6 free Continuous\n",
              "x_3_7 free Continuous\n",
              "x_3_8 free Continuous\n",
              "x_3_9 free Continuous"
            ]
          },
          "metadata": {},
          "execution_count": 194
        }
      ]
    },
    {
      "cell_type": "markdown",
      "source": [
        "Add the limits"
      ],
      "metadata": {
        "id": "h0qiBOCsuSe_"
      }
    },
    {
      "cell_type": "code",
      "source": [
        "for k in range(1,num_steps-1):\n",
        "  for n in range(num_states):\n",
        "    prob += (x[n][k] >= x_lower_limit[n])\n",
        "    prob += (x[n][k] <= x_upper_limit[n])\n",
        "  for p in range(num_inputs):\n",
        "    prob += (u[p][k] >= u_lower_limit[p])\n",
        "    prob += (u[p][k] <= u_upper_limit[p])\n",
        "\n",
        "prob"
      ],
      "metadata": {
        "id": "tb0XSnHVuRWm",
        "colab": {
          "base_uri": "https://localhost:8080/"
        },
        "outputId": "38289065-95dc-45f0-f5d1-fdd5db499145"
      },
      "execution_count": 195,
      "outputs": [
        {
          "output_type": "execute_result",
          "data": {
            "text/plain": [
              "path:\n",
              "MINIMIZE\n",
              "None\n",
              "SUBJECT TO\n",
              "_C1: x_0_0 = 3\n",
              "\n",
              "_C2: x_0_11 = 4\n",
              "\n",
              "_C3: x_1_0 = 1\n",
              "\n",
              "_C4: x_1_11 = 10\n",
              "\n",
              "_C5: x_2_0 = 2\n",
              "\n",
              "_C6: x_2_11 = 1\n",
              "\n",
              "_C7: x_3_0 = 0\n",
              "\n",
              "_C8: x_3_11 = 1\n",
              "\n",
              "_C9: - 0.125 u_0_0 - x_0_0 + x_0_1 - 0.5 x_2_0 = 0\n",
              "\n",
              "_C10: - 0.125 u_1_0 - x_1_0 + x_1_1 - 0.5 x_3_0 = 0\n",
              "\n",
              "_C11: - 0.5 u_0_0 - x_2_0 + x_2_1 = 0\n",
              "\n",
              "_C12: - 0.5 u_1_0 - x_3_0 + x_3_1 = 0\n",
              "\n",
              "_C13: - 0.125 u_0_1 - x_0_1 + x_0_2 - 0.5 x_2_1 = 0\n",
              "\n",
              "_C14: - 0.125 u_1_1 - x_1_1 + x_1_2 - 0.5 x_3_1 = 0\n",
              "\n",
              "_C15: - 0.5 u_0_1 - x_2_1 + x_2_2 = 0\n",
              "\n",
              "_C16: - 0.5 u_1_1 - x_3_1 + x_3_2 = 0\n",
              "\n",
              "_C17: - 0.125 u_0_2 - x_0_2 + x_0_3 - 0.5 x_2_2 = 0\n",
              "\n",
              "_C18: - 0.125 u_1_2 - x_1_2 + x_1_3 - 0.5 x_3_2 = 0\n",
              "\n",
              "_C19: - 0.5 u_0_2 - x_2_2 + x_2_3 = 0\n",
              "\n",
              "_C20: - 0.5 u_1_2 - x_3_2 + x_3_3 = 0\n",
              "\n",
              "_C21: - 0.125 u_0_3 - x_0_3 + x_0_4 - 0.5 x_2_3 = 0\n",
              "\n",
              "_C22: - 0.125 u_1_3 - x_1_3 + x_1_4 - 0.5 x_3_3 = 0\n",
              "\n",
              "_C23: - 0.5 u_0_3 - x_2_3 + x_2_4 = 0\n",
              "\n",
              "_C24: - 0.5 u_1_3 - x_3_3 + x_3_4 = 0\n",
              "\n",
              "_C25: - 0.125 u_0_4 - x_0_4 + x_0_5 - 0.5 x_2_4 = 0\n",
              "\n",
              "_C26: - 0.125 u_1_4 - x_1_4 + x_1_5 - 0.5 x_3_4 = 0\n",
              "\n",
              "_C27: - 0.5 u_0_4 - x_2_4 + x_2_5 = 0\n",
              "\n",
              "_C28: - 0.5 u_1_4 - x_3_4 + x_3_5 = 0\n",
              "\n",
              "_C29: - 0.125 u_0_5 - x_0_5 + x_0_6 - 0.5 x_2_5 = 0\n",
              "\n",
              "_C30: - 0.125 u_1_5 - x_1_5 + x_1_6 - 0.5 x_3_5 = 0\n",
              "\n",
              "_C31: - 0.5 u_0_5 - x_2_5 + x_2_6 = 0\n",
              "\n",
              "_C32: - 0.5 u_1_5 - x_3_5 + x_3_6 = 0\n",
              "\n",
              "_C33: - 0.125 u_0_6 - x_0_6 + x_0_7 - 0.5 x_2_6 = 0\n",
              "\n",
              "_C34: - 0.125 u_1_6 - x_1_6 + x_1_7 - 0.5 x_3_6 = 0\n",
              "\n",
              "_C35: - 0.5 u_0_6 - x_2_6 + x_2_7 = 0\n",
              "\n",
              "_C36: - 0.5 u_1_6 - x_3_6 + x_3_7 = 0\n",
              "\n",
              "_C37: - 0.125 u_0_7 - x_0_7 + x_0_8 - 0.5 x_2_7 = 0\n",
              "\n",
              "_C38: - 0.125 u_1_7 - x_1_7 + x_1_8 - 0.5 x_3_7 = 0\n",
              "\n",
              "_C39: - 0.5 u_0_7 - x_2_7 + x_2_8 = 0\n",
              "\n",
              "_C40: - 0.5 u_1_7 - x_3_7 + x_3_8 = 0\n",
              "\n",
              "_C41: - 0.125 u_0_8 - x_0_8 + x_0_9 - 0.5 x_2_8 = 0\n",
              "\n",
              "_C42: - 0.125 u_1_8 - x_1_8 + x_1_9 - 0.5 x_3_8 = 0\n",
              "\n",
              "_C43: - 0.5 u_0_8 - x_2_8 + x_2_9 = 0\n",
              "\n",
              "_C44: - 0.5 u_1_8 - x_3_8 + x_3_9 = 0\n",
              "\n",
              "_C45: - 0.125 u_0_9 + x_0_10 - x_0_9 - 0.5 x_2_9 = 0\n",
              "\n",
              "_C46: - 0.125 u_1_9 + x_1_10 - x_1_9 - 0.5 x_3_9 = 0\n",
              "\n",
              "_C47: - 0.5 u_0_9 + x_2_10 - x_2_9 = 0\n",
              "\n",
              "_C48: - 0.5 u_1_9 + x_3_10 - x_3_9 = 0\n",
              "\n",
              "_C49: - 0.125 u_0_10 - x_0_10 + x_0_11 - 0.5 x_2_10 = 0\n",
              "\n",
              "_C50: - 0.125 u_1_10 - x_1_10 + x_1_11 - 0.5 x_3_10 = 0\n",
              "\n",
              "_C51: - 0.5 u_0_10 - x_2_10 + x_2_11 = 0\n",
              "\n",
              "_C52: - 0.5 u_1_10 - x_3_10 + x_3_11 = 0\n",
              "\n",
              "_C53: x_0_1 >= -10\n",
              "\n",
              "_C54: x_0_1 <= 10\n",
              "\n",
              "_C55: x_1_1 >= -10\n",
              "\n",
              "_C56: x_1_1 <= 10\n",
              "\n",
              "_C57: x_2_1 >= -3\n",
              "\n",
              "_C58: x_2_1 <= 3\n",
              "\n",
              "_C59: x_3_1 >= -3\n",
              "\n",
              "_C60: x_3_1 <= 3\n",
              "\n",
              "_C61: u_0_1 >= -5\n",
              "\n",
              "_C62: u_0_1 <= 5\n",
              "\n",
              "_C63: u_1_1 >= -5\n",
              "\n",
              "_C64: u_1_1 <= 5\n",
              "\n",
              "_C65: x_0_2 >= -10\n",
              "\n",
              "_C66: x_0_2 <= 10\n",
              "\n",
              "_C67: x_1_2 >= -10\n",
              "\n",
              "_C68: x_1_2 <= 10\n",
              "\n",
              "_C69: x_2_2 >= -3\n",
              "\n",
              "_C70: x_2_2 <= 3\n",
              "\n",
              "_C71: x_3_2 >= -3\n",
              "\n",
              "_C72: x_3_2 <= 3\n",
              "\n",
              "_C73: u_0_2 >= -5\n",
              "\n",
              "_C74: u_0_2 <= 5\n",
              "\n",
              "_C75: u_1_2 >= -5\n",
              "\n",
              "_C76: u_1_2 <= 5\n",
              "\n",
              "_C77: x_0_3 >= -10\n",
              "\n",
              "_C78: x_0_3 <= 10\n",
              "\n",
              "_C79: x_1_3 >= -10\n",
              "\n",
              "_C80: x_1_3 <= 10\n",
              "\n",
              "_C81: x_2_3 >= -3\n",
              "\n",
              "_C82: x_2_3 <= 3\n",
              "\n",
              "_C83: x_3_3 >= -3\n",
              "\n",
              "_C84: x_3_3 <= 3\n",
              "\n",
              "_C85: u_0_3 >= -5\n",
              "\n",
              "_C86: u_0_3 <= 5\n",
              "\n",
              "_C87: u_1_3 >= -5\n",
              "\n",
              "_C88: u_1_3 <= 5\n",
              "\n",
              "_C89: x_0_4 >= -10\n",
              "\n",
              "_C90: x_0_4 <= 10\n",
              "\n",
              "_C91: x_1_4 >= -10\n",
              "\n",
              "_C92: x_1_4 <= 10\n",
              "\n",
              "_C93: x_2_4 >= -3\n",
              "\n",
              "_C94: x_2_4 <= 3\n",
              "\n",
              "_C95: x_3_4 >= -3\n",
              "\n",
              "_C96: x_3_4 <= 3\n",
              "\n",
              "_C97: u_0_4 >= -5\n",
              "\n",
              "_C98: u_0_4 <= 5\n",
              "\n",
              "_C99: u_1_4 >= -5\n",
              "\n",
              "_C100: u_1_4 <= 5\n",
              "\n",
              "_C101: x_0_5 >= -10\n",
              "\n",
              "_C102: x_0_5 <= 10\n",
              "\n",
              "_C103: x_1_5 >= -10\n",
              "\n",
              "_C104: x_1_5 <= 10\n",
              "\n",
              "_C105: x_2_5 >= -3\n",
              "\n",
              "_C106: x_2_5 <= 3\n",
              "\n",
              "_C107: x_3_5 >= -3\n",
              "\n",
              "_C108: x_3_5 <= 3\n",
              "\n",
              "_C109: u_0_5 >= -5\n",
              "\n",
              "_C110: u_0_5 <= 5\n",
              "\n",
              "_C111: u_1_5 >= -5\n",
              "\n",
              "_C112: u_1_5 <= 5\n",
              "\n",
              "_C113: x_0_6 >= -10\n",
              "\n",
              "_C114: x_0_6 <= 10\n",
              "\n",
              "_C115: x_1_6 >= -10\n",
              "\n",
              "_C116: x_1_6 <= 10\n",
              "\n",
              "_C117: x_2_6 >= -3\n",
              "\n",
              "_C118: x_2_6 <= 3\n",
              "\n",
              "_C119: x_3_6 >= -3\n",
              "\n",
              "_C120: x_3_6 <= 3\n",
              "\n",
              "_C121: u_0_6 >= -5\n",
              "\n",
              "_C122: u_0_6 <= 5\n",
              "\n",
              "_C123: u_1_6 >= -5\n",
              "\n",
              "_C124: u_1_6 <= 5\n",
              "\n",
              "_C125: x_0_7 >= -10\n",
              "\n",
              "_C126: x_0_7 <= 10\n",
              "\n",
              "_C127: x_1_7 >= -10\n",
              "\n",
              "_C128: x_1_7 <= 10\n",
              "\n",
              "_C129: x_2_7 >= -3\n",
              "\n",
              "_C130: x_2_7 <= 3\n",
              "\n",
              "_C131: x_3_7 >= -3\n",
              "\n",
              "_C132: x_3_7 <= 3\n",
              "\n",
              "_C133: u_0_7 >= -5\n",
              "\n",
              "_C134: u_0_7 <= 5\n",
              "\n",
              "_C135: u_1_7 >= -5\n",
              "\n",
              "_C136: u_1_7 <= 5\n",
              "\n",
              "_C137: x_0_8 >= -10\n",
              "\n",
              "_C138: x_0_8 <= 10\n",
              "\n",
              "_C139: x_1_8 >= -10\n",
              "\n",
              "_C140: x_1_8 <= 10\n",
              "\n",
              "_C141: x_2_8 >= -3\n",
              "\n",
              "_C142: x_2_8 <= 3\n",
              "\n",
              "_C143: x_3_8 >= -3\n",
              "\n",
              "_C144: x_3_8 <= 3\n",
              "\n",
              "_C145: u_0_8 >= -5\n",
              "\n",
              "_C146: u_0_8 <= 5\n",
              "\n",
              "_C147: u_1_8 >= -5\n",
              "\n",
              "_C148: u_1_8 <= 5\n",
              "\n",
              "_C149: x_0_9 >= -10\n",
              "\n",
              "_C150: x_0_9 <= 10\n",
              "\n",
              "_C151: x_1_9 >= -10\n",
              "\n",
              "_C152: x_1_9 <= 10\n",
              "\n",
              "_C153: x_2_9 >= -3\n",
              "\n",
              "_C154: x_2_9 <= 3\n",
              "\n",
              "_C155: x_3_9 >= -3\n",
              "\n",
              "_C156: x_3_9 <= 3\n",
              "\n",
              "_C157: u_0_9 >= -5\n",
              "\n",
              "_C158: u_0_9 <= 5\n",
              "\n",
              "_C159: u_1_9 >= -5\n",
              "\n",
              "_C160: u_1_9 <= 5\n",
              "\n",
              "_C161: x_0_10 >= -10\n",
              "\n",
              "_C162: x_0_10 <= 10\n",
              "\n",
              "_C163: x_1_10 >= -10\n",
              "\n",
              "_C164: x_1_10 <= 10\n",
              "\n",
              "_C165: x_2_10 >= -3\n",
              "\n",
              "_C166: x_2_10 <= 3\n",
              "\n",
              "_C167: x_3_10 >= -3\n",
              "\n",
              "_C168: x_3_10 <= 3\n",
              "\n",
              "_C169: u_0_10 >= -5\n",
              "\n",
              "_C170: u_0_10 <= 5\n",
              "\n",
              "_C171: u_1_10 >= -5\n",
              "\n",
              "_C172: u_1_10 <= 5\n",
              "\n",
              "VARIABLES\n",
              "u_0_0 free Continuous\n",
              "u_0_1 free Continuous\n",
              "u_0_10 free Continuous\n",
              "u_0_2 free Continuous\n",
              "u_0_3 free Continuous\n",
              "u_0_4 free Continuous\n",
              "u_0_5 free Continuous\n",
              "u_0_6 free Continuous\n",
              "u_0_7 free Continuous\n",
              "u_0_8 free Continuous\n",
              "u_0_9 free Continuous\n",
              "u_1_0 free Continuous\n",
              "u_1_1 free Continuous\n",
              "u_1_10 free Continuous\n",
              "u_1_2 free Continuous\n",
              "u_1_3 free Continuous\n",
              "u_1_4 free Continuous\n",
              "u_1_5 free Continuous\n",
              "u_1_6 free Continuous\n",
              "u_1_7 free Continuous\n",
              "u_1_8 free Continuous\n",
              "u_1_9 free Continuous\n",
              "x_0_0 free Continuous\n",
              "x_0_1 free Continuous\n",
              "x_0_10 free Continuous\n",
              "x_0_11 free Continuous\n",
              "x_0_2 free Continuous\n",
              "x_0_3 free Continuous\n",
              "x_0_4 free Continuous\n",
              "x_0_5 free Continuous\n",
              "x_0_6 free Continuous\n",
              "x_0_7 free Continuous\n",
              "x_0_8 free Continuous\n",
              "x_0_9 free Continuous\n",
              "x_1_0 free Continuous\n",
              "x_1_1 free Continuous\n",
              "x_1_10 free Continuous\n",
              "x_1_11 free Continuous\n",
              "x_1_2 free Continuous\n",
              "x_1_3 free Continuous\n",
              "x_1_4 free Continuous\n",
              "x_1_5 free Continuous\n",
              "x_1_6 free Continuous\n",
              "x_1_7 free Continuous\n",
              "x_1_8 free Continuous\n",
              "x_1_9 free Continuous\n",
              "x_2_0 free Continuous\n",
              "x_2_1 free Continuous\n",
              "x_2_10 free Continuous\n",
              "x_2_11 free Continuous\n",
              "x_2_2 free Continuous\n",
              "x_2_3 free Continuous\n",
              "x_2_4 free Continuous\n",
              "x_2_5 free Continuous\n",
              "x_2_6 free Continuous\n",
              "x_2_7 free Continuous\n",
              "x_2_8 free Continuous\n",
              "x_2_9 free Continuous\n",
              "x_3_0 free Continuous\n",
              "x_3_1 free Continuous\n",
              "x_3_10 free Continuous\n",
              "x_3_11 free Continuous\n",
              "x_3_2 free Continuous\n",
              "x_3_3 free Continuous\n",
              "x_3_4 free Continuous\n",
              "x_3_5 free Continuous\n",
              "x_3_6 free Continuous\n",
              "x_3_7 free Continuous\n",
              "x_3_8 free Continuous\n",
              "x_3_9 free Continuous"
            ]
          },
          "metadata": {},
          "execution_count": 195
        }
      ]
    },
    {
      "cell_type": "markdown",
      "source": [
        "Although we haven't set an obective, we can just ask for any old solution to the constraints at this point."
      ],
      "metadata": {
        "id": "_Y-lej8uyPQ_"
      }
    },
    {
      "cell_type": "code",
      "execution_count": 196,
      "metadata": {
        "id": "VPKxnnfpmttV",
        "outputId": "d72b335a-7618-4718-a1af-032395695cd9",
        "colab": {
          "base_uri": "https://localhost:8080/"
        }
      },
      "outputs": [
        {
          "output_type": "stream",
          "name": "stdout",
          "text": [
            "Status: Optimal\n"
          ]
        }
      ],
      "source": [
        "prob2 = prob.copy()\n",
        "prob2.solve()\n",
        "print(\"Status:\", LpStatus[prob2.status])"
      ]
    },
    {
      "cell_type": "markdown",
      "source": [
        "We can't expect a very good path yet, but it should at least connect start to goal."
      ],
      "metadata": {
        "id": "cvkmXYPnyqlX"
      }
    },
    {
      "cell_type": "code",
      "execution_count": 197,
      "metadata": {
        "id": "lhxJpDvnmttV",
        "outputId": "1ec8869b-ce15-43e2-e1a5-8459688449d4",
        "colab": {
          "base_uri": "https://localhost:8080/",
          "height": 265
        }
      },
      "outputs": [
        {
          "output_type": "display_data",
          "data": {
            "text/plain": [
              "<Figure size 432x288 with 1 Axes>"
            ],
            "image/png": "[encoded data removed]"
          },
          "metadata": {
            "needs_background": "light"
          }
        }
      ],
      "source": [
        "def plot_traj(x):\n",
        "  plt.plot([x[0][k].varValue for k in range(num_steps)],[x[1][k].varValue for k in range(num_steps)])\n",
        "\n",
        "plot_state(x_goal,'g')\n",
        "plot_state(x_start, 'b')\n",
        "\n",
        "for ob in obstacles:\n",
        "  plot_obst_box(ob)\n",
        "\n",
        "plot_traj(x)\n",
        "\n",
        "plt.axis('equal')\n",
        "plt.show()"
      ]
    },
    {
      "cell_type": "code",
      "source": [
        "um = LpVariable.dicts(\"um\",(range(num_inputs),range(num_steps)))\n",
        "for k in range(num_steps):\n",
        "  for p in range(num_inputs):\n",
        "    prob += (um[p][k]>=u[p][k])\n",
        "    prob += (um[p][k]>=-u[p][k])\n",
        "\n",
        "prob.setObjective(sum([um[p][k] for k in range(num_steps) for p in range(num_inputs)]))\n",
        "\n",
        "prob3 = prob.copy()\n",
        "prob3.solve()\n",
        "\n",
        "plot_state(x_goal,'g')\n",
        "plot_state(x_start, 'b')\n",
        "\n",
        "for ob in obstacles:\n",
        "  plot_obst_box(ob)\n",
        "\n",
        "plot_traj(x)\n",
        "\n",
        "plt.axis('equal')\n",
        "plt.show()"
      ],
      "metadata": {
        "colab": {
          "base_uri": "https://localhost:8080/",
          "height": 265
        },
        "id": "LgvCmB70RAdT",
        "outputId": "fba598f4-5959-4eb5-c6d7-56c1181424d7"
      },
      "execution_count": 198,
      "outputs": [
        {
          "output_type": "display_data",
          "data": {
            "text/plain": [
              "<Figure size 432x288 with 1 Axes>"
            ],
            "image/png": "[encoded data removed]"
          },
          "metadata": {
            "needs_background": "light"
          }
        }
      ]
    },
    {
      "cell_type": "code",
      "source": [
        "b = LpVariable.dicts(\"b\",(range(len(obstacles)),range(4),range(num_steps)),lowBound=0,upBound=1,cat='Integer')\n",
        "bigM = 10\n",
        "\n",
        "for k in range(num_steps-1):\n",
        "  for q in range(len(obstacles)):\n",
        "    prob += (x[0][k]<=obstacles[q][0] + bigM*b[q][0][k])\n",
        "    prob += (x[1][k]<=obstacles[q][1] + bigM*b[q][1][k])\n",
        "    prob += (x[0][k]>=obstacles[q][2] - bigM*b[q][2][k])\n",
        "    prob += (x[1][k]>=obstacles[q][3] - bigM*b[q][3][k])\n",
        "    prob += (sum([b[q][d][k] for d in range(4)])<=3)\n",
        "    \n",
        "prob4 = prob.copy()\n",
        "prob4.solve()\n",
        "print(\"Status:\", LpStatus[prob4.status])\n",
        "\n",
        "plot_state(x_goal,'g')\n",
        "plot_state(x_start, 'b')\n",
        "\n",
        "for ob in obstacles:\n",
        "  plot_obst_box(ob)\n",
        "\n",
        "plot_traj(x)\n",
        "\n",
        "plt.axis('equal')\n",
        "plt.show()"
      ],
      "metadata": {
        "id": "OL-QmcSXoAwq",
        "outputId": "935eb9a6-9cfb-4179-9863-a67cbf3d6bc3",
        "colab": {
          "base_uri": "https://localhost:8080/",
          "height": 282
        }
      },
      "execution_count": 199,
      "outputs": [
        {
          "output_type": "stream",
          "name": "stdout",
          "text": [
            "Status: Optimal\n"
          ]
        },
        {
          "output_type": "display_data",
          "data": {
            "text/plain": [
              "<Figure size 432x288 with 1 Axes>"
            ],
            "image/png": "[encoded data removed]"
          },
          "metadata": {
            "needs_background": "light"
          }
        }
      ]
    },
    {
      "cell_type": "code",
      "source": [
        "for k in range(num_steps-1):\n",
        "  for q in range(len(obstacles)):\n",
        "    prob += (x[0][k+1]<=obstacles[q][0] + bigM*b[q][0][k])\n",
        "    prob += (x[1][k+1]<=obstacles[q][1] + bigM*b[q][1][k])\n",
        "    prob += (x[0][k+1]>=obstacles[q][2] - bigM*b[q][2][k])\n",
        "    prob += (x[1][k+1]>=obstacles[q][3] - bigM*b[q][3][k])\n",
        "    \n",
        "prob.solve()\n",
        "print(\"Status:\", LpStatus[prob.status])\n",
        "\n",
        "plot_state(x_goal,'g')\n",
        "plot_state(x_start, 'b')\n",
        "\n",
        "for ob in obstacles:\n",
        "  plot_obst_box(ob)\n",
        "\n",
        "plot_traj(x)\n",
        "\n",
        "plt.axis('equal')\n",
        "plt.show()"
      ],
      "metadata": {
        "id": "2Eyb3-5XrNJ8",
        "outputId": "9e7b9c01-43ba-4677-c5f0-86663b447671",
        "colab": {
          "base_uri": "https://localhost:8080/",
          "height": 282
        }
      },
      "execution_count": 200,
      "outputs": [
        {
          "output_type": "stream",
          "name": "stdout",
          "text": [
            "Status: Optimal\n"
          ]
        },
        {
          "output_type": "display_data",
          "data": {
            "text/plain": [
              "<Figure size 432x288 with 1 Axes>"
            ],
            "image/png": "[encoded data removed]"
          },
          "metadata": {
            "needs_background": "light"
          }
        }
      ]
    },
    {
      "cell_type": "code",
      "source": [
        "for q in range(len(obstacles)):\n",
        "  for k in range(num_steps-1):\n",
        "    print(b[q][0][k],':',b[q][0][k].varValue)\n",
        "    print(b[q][1][k],':',b[q][1][k].varValue)\n",
        "    print(b[q][2][k],':',b[q][2][k].varValue)\n",
        "    print(b[q][3][k],':',b[q][3][k].varValue)"
      ],
      "metadata": {
        "id": "3hYBtv-ip0t-",
        "outputId": "f7d5e601-4063-4bca-cb1f-1a997bafeda8",
        "colab": {
          "base_uri": "https://localhost:8080/"
        }
      },
      "execution_count": 204,
      "outputs": [
        {
          "output_type": "stream",
          "name": "stdout",
          "text": [
            "b_0_0_0 : 1.0\n",
            "b_0_1_0 : 0.0\n",
            "b_0_2_0 : 1.0\n",
            "b_0_3_0 : 1.0\n",
            "b_0_0_1 : 1.0\n",
            "b_0_1_1 : 1.0\n",
            "b_0_2_1 : 0.0\n",
            "b_0_3_1 : 1.0\n",
            "b_0_0_2 : 1.0\n",
            "b_0_1_2 : 1.0\n",
            "b_0_2_2 : 0.0\n",
            "b_0_3_2 : 1.0\n",
            "b_0_0_3 : 1.0\n",
            "b_0_1_3 : 1.0\n",
            "b_0_2_3 : 0.0\n",
            "b_0_3_3 : 1.0\n",
            "b_0_0_4 : 1.0\n",
            "b_0_1_4 : 1.0\n",
            "b_0_2_4 : 1.0\n",
            "b_0_3_4 : 0.0\n",
            "b_0_0_5 : 1.0\n",
            "b_0_1_5 : 1.0\n",
            "b_0_2_5 : 1.0\n",
            "b_0_3_5 : 0.0\n",
            "b_0_0_6 : 1.0\n",
            "b_0_1_6 : 1.0\n",
            "b_0_2_6 : 0.0\n",
            "b_0_3_6 : 1.0\n",
            "b_0_0_7 : 1.0\n",
            "b_0_1_7 : 1.0\n",
            "b_0_2_7 : 1.0\n",
            "b_0_3_7 : 0.0\n",
            "b_0_0_8 : 1.0\n",
            "b_0_1_8 : 1.0\n",
            "b_0_2_8 : 1.0\n",
            "b_0_3_8 : 0.0\n",
            "b_0_0_9 : 1.0\n",
            "b_0_1_9 : 1.0\n",
            "b_0_2_9 : 1.0\n",
            "b_0_3_9 : 0.0\n",
            "b_0_0_10 : 1.0\n",
            "b_0_1_10 : 1.0\n",
            "b_0_2_10 : 1.0\n",
            "b_0_3_10 : 0.0\n",
            "b_1_0_0 : 1.0\n",
            "b_1_1_0 : 0.0\n",
            "b_1_2_0 : 1.0\n",
            "b_1_3_0 : 1.0\n",
            "b_1_0_1 : 1.0\n",
            "b_1_1_1 : 0.0\n",
            "b_1_2_1 : 1.0\n",
            "b_1_3_1 : 1.0\n",
            "b_1_0_2 : 1.0\n",
            "b_1_1_2 : 0.0\n",
            "b_1_2_2 : 1.0\n",
            "b_1_3_2 : 1.0\n",
            "b_1_0_3 : 1.0\n",
            "b_1_1_3 : 0.0\n",
            "b_1_2_3 : 1.0\n",
            "b_1_3_3 : 1.0\n",
            "b_1_0_4 : 1.0\n",
            "b_1_1_4 : 1.0\n",
            "b_1_2_4 : 0.0\n",
            "b_1_3_4 : 1.0\n",
            "b_1_0_5 : 1.0\n",
            "b_1_1_5 : 1.0\n",
            "b_1_2_5 : 0.0\n",
            "b_1_3_5 : 1.0\n",
            "b_1_0_6 : 1.0\n",
            "b_1_1_6 : 1.0\n",
            "b_1_2_6 : 0.0\n",
            "b_1_3_6 : 1.0\n",
            "b_1_0_7 : 1.0\n",
            "b_1_1_7 : 1.0\n",
            "b_1_2_7 : 1.0\n",
            "b_1_3_7 : 0.0\n",
            "b_1_0_8 : 1.0\n",
            "b_1_1_8 : 1.0\n",
            "b_1_2_8 : 1.0\n",
            "b_1_3_8 : 0.0\n",
            "b_1_0_9 : 1.0\n",
            "b_1_1_9 : 1.0\n",
            "b_1_2_9 : 1.0\n",
            "b_1_3_9 : 0.0\n",
            "b_1_0_10 : 1.0\n",
            "b_1_1_10 : 1.0\n",
            "b_1_2_10 : 1.0\n",
            "b_1_3_10 : 0.0\n"
          ]
        }
      ]
    }
  ],
  "metadata": {
    "kernelspec": {
      "display_name": "Python 3",
      "language": "python",
      "name": "python3"
    },
    "language_info": {
      "codemirror_mode": {
        "name": "ipython",
        "version": 3
      },
      "file_extension": ".py",
      "mimetype": "text/x-python",
      "name": "python",
      "nbconvert_exporter": "python",
      "pygments_lexer": "ipython3",
      "version": "3.5.2"
    },
    "colab": {
      "provenance": []
    }
  },
  "nbformat": 4,
  "nbformat_minor": 0
}
